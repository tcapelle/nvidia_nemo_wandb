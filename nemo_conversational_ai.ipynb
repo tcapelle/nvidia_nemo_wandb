{
  "cells": [
    {
      "cell_type": "markdown",
      "metadata": {
        "id": "iLg9_maIU3kL"
      },
      "source": [
        "<a href=\"https://colab.research.google.com/github/tcapelle/nvidia_nemo_wandb/blob/main/nemo_conversational_ai.ipynb\" target=\"_parent\"><img src=\"https://colab.research.google.com/assets/colab-badge.svg\" alt=\"Open In Colab\"/></a>"
      ]
    },
    {
      "cell_type": "markdown",
      "metadata": {
        "id": "RYGnI-EZp_nK"
      },
      "source": [
        "# Getting Started: Sample Conversational AI application\n",
        "This notebook shows how to use NVIDIA NeMo (https://github.com/NVIDIA/NeMo) to construct a toy demo which translate Mandarin audio file into English one.\n",
        "\n",
        "The demo demonstrates how to: \n",
        "\n",
        "* Instantiate pre-trained NeMo models from NVIDIA NGC.\n",
        "* Transcribe audio with (Mandarin) speech recognition model.\n",
        "* Translate text with machine translation model.\n",
        "* Generate audio with text-to-speech models."
      ]
    },
    {
      "cell_type": "markdown",
      "metadata": {
        "id": "V72HXYuQ_p9a"
      },
      "source": [
        "## Installation\n",
        "NeMo can be installed via simple pip command.\n",
        "This will take about 4 minutes.\n",
        "\n",
        "(The installation method below should work inside your new Conda environment or in an NVIDIA docker container.)"
      ]
    },
    {
      "cell_type": "code",
      "execution_count": 1,
      "metadata": {
        "colab": {
          "base_uri": "https://localhost:8080/"
        },
        "id": "efDmTWf1_iYK",
        "outputId": "30867b61-13b0-408f-9c30-dd2902be1b2f"
      },
      "outputs": [
        {
          "output_type": "stream",
          "name": "stdout",
          "text": [
            "fatal: destination path 'nvidia_nemo_wandb' already exists and is not an empty directory.\n",
            "Collecting nemo_toolkit[all]\n",
            "  Cloning https://github.com/NVIDIA/NeMo.git (to revision r1.5.0) to /tmp/pip-install-qweerz7v/nemo-toolkit_b749143635504fb4a4e42f45ec48ff80\n",
            "  Running command git clone -q https://github.com/NVIDIA/NeMo.git /tmp/pip-install-qweerz7v/nemo-toolkit_b749143635504fb4a4e42f45ec48ff80\n",
            "  Running command git checkout -b r1.5.0 --track origin/r1.5.0\n",
            "  Switched to a new branch 'r1.5.0'\n",
            "  Branch 'r1.5.0' set up to track remote branch 'r1.5.0' from 'origin'.\n",
            "Requirement already satisfied: numpy>=1.18.2 in /usr/local/lib/python3.7/dist-packages (from nemo_toolkit[all]) (1.19.5)\n",
            "Requirement already satisfied: onnx>=1.7.0 in /usr/local/lib/python3.7/dist-packages (from nemo_toolkit[all]) (1.10.2)\n",
            "Requirement already satisfied: python-dateutil in /usr/local/lib/python3.7/dist-packages (from nemo_toolkit[all]) (2.8.2)\n",
            "Requirement already satisfied: torch in /usr/local/lib/python3.7/dist-packages (from nemo_toolkit[all]) (1.10.0+cu111)\n",
            "Requirement already satisfied: wrapt in /usr/local/lib/python3.7/dist-packages (from nemo_toolkit[all]) (1.13.3)\n",
            "Requirement already satisfied: ruamel.yaml in /usr/local/lib/python3.7/dist-packages (from nemo_toolkit[all]) (0.17.17)\n",
            "Requirement already satisfied: scikit-learn in /usr/local/lib/python3.7/dist-packages (from nemo_toolkit[all]) (1.0.1)\n",
            "Requirement already satisfied: sentencepiece<1.0.0 in /usr/local/lib/python3.7/dist-packages (from nemo_toolkit[all]) (0.1.96)\n",
            "Requirement already satisfied: tqdm>=4.41.0 in /usr/local/lib/python3.7/dist-packages (from nemo_toolkit[all]) (4.62.3)\n",
            "Requirement already satisfied: numba in /usr/local/lib/python3.7/dist-packages (from nemo_toolkit[all]) (0.51.2)\n",
            "Requirement already satisfied: wget in /usr/local/lib/python3.7/dist-packages (from nemo_toolkit[all]) (3.2)\n",
            "Requirement already satisfied: frozendict in /usr/local/lib/python3.7/dist-packages (from nemo_toolkit[all]) (2.1.1)\n",
            "Requirement already satisfied: unidecode in /usr/local/lib/python3.7/dist-packages (from nemo_toolkit[all]) (1.3.2)\n",
            "Requirement already satisfied: black==19.10b0 in /usr/local/lib/python3.7/dist-packages (from nemo_toolkit[all]) (19.10b0)\n",
            "Requirement already satisfied: isort[requirements]<5 in /usr/local/lib/python3.7/dist-packages (from nemo_toolkit[all]) (4.3.21)\n",
            "Requirement already satisfied: parameterized in /usr/local/lib/python3.7/dist-packages (from nemo_toolkit[all]) (0.8.1)\n",
            "Requirement already satisfied: pytest in /usr/local/lib/python3.7/dist-packages (from nemo_toolkit[all]) (3.6.4)\n",
            "Requirement already satisfied: pytest-runner in /usr/local/lib/python3.7/dist-packages (from nemo_toolkit[all]) (5.3.1)\n",
            "Requirement already satisfied: sphinx in /usr/local/lib/python3.7/dist-packages (from nemo_toolkit[all]) (4.3.1)\n",
            "Requirement already satisfied: sphinxcontrib-bibtex in /usr/local/lib/python3.7/dist-packages (from nemo_toolkit[all]) (2.4.1)\n",
            "Requirement already satisfied: wandb in /usr/local/lib/python3.7/dist-packages (from nemo_toolkit[all]) (0.12.7)\n",
            "Requirement already satisfied: inflect in /usr/local/lib/python3.7/dist-packages (from nemo_toolkit[all]) (2.1.0)\n",
            "Requirement already satisfied: regex in /usr/local/lib/python3.7/dist-packages (from nemo_toolkit[all]) (2019.12.20)\n",
            "Requirement already satisfied: matplotlib in /usr/local/lib/python3.7/dist-packages (from nemo_toolkit[all]) (3.5.0)\n",
            "Requirement already satisfied: pypinyin in /usr/local/lib/python3.7/dist-packages (from nemo_toolkit[all]) (0.44.0)\n",
            "Requirement already satisfied: attrdict in /usr/local/lib/python3.7/dist-packages (from nemo_toolkit[all]) (2.0.1)\n",
            "Requirement already satisfied: pystoi in /usr/local/lib/python3.7/dist-packages (from nemo_toolkit[all]) (0.3.3)\n",
            "Requirement already satisfied: pesq in /usr/local/lib/python3.7/dist-packages (from nemo_toolkit[all]) (0.0.3)\n",
            "Requirement already satisfied: pandas in /usr/local/lib/python3.7/dist-packages (from nemo_toolkit[all]) (1.1.5)\n",
            "Requirement already satisfied: pytorch-lightning>=1.5.0 in /usr/local/lib/python3.7/dist-packages (from nemo_toolkit[all]) (1.5.5)\n",
            "Requirement already satisfied: torchmetrics>=0.4.1rc0 in /usr/local/lib/python3.7/dist-packages (from nemo_toolkit[all]) (0.6.1)\n",
            "Requirement already satisfied: transformers>=4.0.1 in /usr/local/lib/python3.7/dist-packages (from nemo_toolkit[all]) (4.12.5)\n",
            "Requirement already satisfied: webdataset<=0.1.62,>=0.1.48 in /usr/local/lib/python3.7/dist-packages (from nemo_toolkit[all]) (0.1.62)\n",
            "Requirement already satisfied: omegaconf>=2.1.0 in /usr/local/lib/python3.7/dist-packages (from nemo_toolkit[all]) (2.1.1)\n",
            "Requirement already satisfied: hydra-core>=1.1.0 in /usr/local/lib/python3.7/dist-packages (from nemo_toolkit[all]) (1.1.1)\n",
            "Requirement already satisfied: pyyaml<6 in /usr/local/lib/python3.7/dist-packages (from nemo_toolkit[all]) (5.4.1)\n",
            "Requirement already satisfied: braceexpand in /usr/local/lib/python3.7/dist-packages (from nemo_toolkit[all]) (0.1.7)\n",
            "Requirement already satisfied: editdistance in /usr/local/lib/python3.7/dist-packages (from nemo_toolkit[all]) (0.5.3)\n",
            "Requirement already satisfied: kaldi-io in /usr/local/lib/python3.7/dist-packages (from nemo_toolkit[all]) (0.9.4)\n",
            "Requirement already satisfied: librosa in /usr/local/lib/python3.7/dist-packages (from nemo_toolkit[all]) (0.8.1)\n",
            "Requirement already satisfied: marshmallow in /usr/local/lib/python3.7/dist-packages (from nemo_toolkit[all]) (3.14.1)\n",
            "Requirement already satisfied: packaging in /usr/local/lib/python3.7/dist-packages (from nemo_toolkit[all]) (21.3)\n",
            "Requirement already satisfied: soundfile in /usr/local/lib/python3.7/dist-packages (from nemo_toolkit[all]) (0.10.3.post1)\n",
            "Requirement already satisfied: sox in /usr/local/lib/python3.7/dist-packages (from nemo_toolkit[all]) (1.4.1)\n",
            "Requirement already satisfied: kaldi-python-io in /usr/local/lib/python3.7/dist-packages (from nemo_toolkit[all]) (1.2.2)\n",
            "Requirement already satisfied: kaldiio in /usr/local/lib/python3.7/dist-packages (from nemo_toolkit[all]) (2.17.2)\n",
            "Requirement already satisfied: scipy in /usr/local/lib/python3.7/dist-packages (from nemo_toolkit[all]) (1.4.1)\n",
            "Requirement already satisfied: g2p_en in /usr/local/lib/python3.7/dist-packages (from nemo_toolkit[all]) (2.1.0)\n",
            "Requirement already satisfied: pydub in /usr/local/lib/python3.7/dist-packages (from nemo_toolkit[all]) (0.25.1)\n",
            "Requirement already satisfied: pyannote.core in /usr/local/lib/python3.7/dist-packages (from nemo_toolkit[all]) (4.3)\n",
            "Requirement already satisfied: pyannote.metrics in /usr/local/lib/python3.7/dist-packages (from nemo_toolkit[all]) (3.1)\n",
            "Requirement already satisfied: torch-stft in /usr/local/lib/python3.7/dist-packages (from nemo_toolkit[all]) (0.1.4)\n",
            "Requirement already satisfied: ipywidgets in /usr/local/lib/python3.7/dist-packages (from nemo_toolkit[all]) (7.6.5)\n",
            "Requirement already satisfied: pillow in /usr/local/lib/python3.7/dist-packages (from nemo_toolkit[all]) (7.1.2)\n",
            "Requirement already satisfied: torchvision in /usr/local/lib/python3.7/dist-packages (from nemo_toolkit[all]) (0.11.1+cu111)\n",
            "Requirement already satisfied: boto3 in /usr/local/lib/python3.7/dist-packages (from nemo_toolkit[all]) (1.20.22)\n",
            "Requirement already satisfied: h5py in /usr/local/lib/python3.7/dist-packages (from nemo_toolkit[all]) (3.1.0)\n",
            "Requirement already satisfied: youtokentome>=1.0.5 in /usr/local/lib/python3.7/dist-packages (from nemo_toolkit[all]) (1.0.6)\n",
            "Requirement already satisfied: rapidfuzz in /usr/local/lib/python3.7/dist-packages (from nemo_toolkit[all]) (1.8.3)\n",
            "Requirement already satisfied: gdown in /usr/local/lib/python3.7/dist-packages (from nemo_toolkit[all]) (3.6.4)\n",
            "Requirement already satisfied: sacrebleu[ja] in /usr/local/lib/python3.7/dist-packages (from nemo_toolkit[all]) (2.0.0)\n",
            "Requirement already satisfied: sacremoses>=0.0.43 in /usr/local/lib/python3.7/dist-packages (from nemo_toolkit[all]) (0.0.46)\n",
            "Collecting nltk>=3.6.5\n",
            "  Using cached nltk-3.6.5-py3-none-any.whl (1.5 MB)\n",
            "Requirement already satisfied: wordninja==2.0.0 in /usr/local/lib/python3.7/dist-packages (from nemo_toolkit[all]) (2.0.0)\n",
            "Requirement already satisfied: fasttext in /usr/local/lib/python3.7/dist-packages (from nemo_toolkit[all]) (0.9.2)\n",
            "Requirement already satisfied: opencc in /usr/local/lib/python3.7/dist-packages (from nemo_toolkit[all]) (1.1.3)\n",
            "Requirement already satisfied: pangu in /usr/local/lib/python3.7/dist-packages (from nemo_toolkit[all]) (4.0.6.1)\n",
            "Requirement already satisfied: jieba in /usr/local/lib/python3.7/dist-packages (from nemo_toolkit[all]) (0.42.1)\n",
            "Requirement already satisfied: nltk in /usr/local/lib/python3.7/dist-packages (from nemo_toolkit[all]) (3.2.5)\n",
            "Requirement already satisfied: typed-ast>=1.4.0 in /usr/local/lib/python3.7/dist-packages (from black==19.10b0->nemo_toolkit[all]) (1.5.1)\n",
            "Requirement already satisfied: attrs>=18.1.0 in /usr/local/lib/python3.7/dist-packages (from black==19.10b0->nemo_toolkit[all]) (21.2.0)\n",
            "Requirement already satisfied: pathspec<1,>=0.6 in /usr/local/lib/python3.7/dist-packages (from black==19.10b0->nemo_toolkit[all]) (0.9.0)\n",
            "Requirement already satisfied: appdirs in /usr/local/lib/python3.7/dist-packages (from black==19.10b0->nemo_toolkit[all]) (1.4.4)\n",
            "Requirement already satisfied: click>=6.5 in /usr/local/lib/python3.7/dist-packages (from black==19.10b0->nemo_toolkit[all]) (7.1.2)\n",
            "Requirement already satisfied: toml>=0.9.4 in /usr/local/lib/python3.7/dist-packages (from black==19.10b0->nemo_toolkit[all]) (0.10.2)\n",
            "Requirement already satisfied: antlr4-python3-runtime==4.8 in /usr/local/lib/python3.7/dist-packages (from hydra-core>=1.1.0->nemo_toolkit[all]) (4.8)\n",
            "Requirement already satisfied: importlib-resources in /usr/local/lib/python3.7/dist-packages (from hydra-core>=1.1.0->nemo_toolkit[all]) (5.4.0)\n",
            "Requirement already satisfied: pipreqs in /usr/local/lib/python3.7/dist-packages (from isort[requirements]<5->nemo_toolkit[all]) (0.4.11)\n",
            "Requirement already satisfied: pip-api in /usr/local/lib/python3.7/dist-packages (from isort[requirements]<5->nemo_toolkit[all]) (0.0.26)\n",
            "Requirement already satisfied: fonttools>=4.22.0 in /usr/local/lib/python3.7/dist-packages (from matplotlib->nemo_toolkit[all]) (4.28.3)\n",
            "Requirement already satisfied: pyparsing>=2.2.1 in /usr/local/lib/python3.7/dist-packages (from matplotlib->nemo_toolkit[all]) (3.0.6)\n",
            "Requirement already satisfied: cycler>=0.10 in /usr/local/lib/python3.7/dist-packages (from matplotlib->nemo_toolkit[all]) (0.11.0)\n",
            "Requirement already satisfied: kiwisolver>=1.0.1 in /usr/local/lib/python3.7/dist-packages (from matplotlib->nemo_toolkit[all]) (1.3.2)\n",
            "Requirement already satisfied: setuptools-scm>=4 in /usr/local/lib/python3.7/dist-packages (from matplotlib->nemo_toolkit[all]) (6.3.2)\n",
            "Requirement already satisfied: protobuf in /usr/local/lib/python3.7/dist-packages (from onnx>=1.7.0->nemo_toolkit[all]) (3.17.3)\n",
            "Requirement already satisfied: typing-extensions>=3.6.2.1 in /usr/local/lib/python3.7/dist-packages (from onnx>=1.7.0->nemo_toolkit[all]) (3.10.0.2)\n",
            "Requirement already satisfied: six in /usr/local/lib/python3.7/dist-packages (from onnx>=1.7.0->nemo_toolkit[all]) (1.15.0)\n",
            "Requirement already satisfied: future>=0.17.1 in /usr/local/lib/python3.7/dist-packages (from pytorch-lightning>=1.5.0->nemo_toolkit[all]) (0.18.2)\n",
            "Requirement already satisfied: tensorboard>=2.2.0 in /usr/local/lib/python3.7/dist-packages (from pytorch-lightning>=1.5.0->nemo_toolkit[all]) (2.7.0)\n",
            "Requirement already satisfied: fsspec[http]!=2021.06.0,>=2021.05.0 in /usr/local/lib/python3.7/dist-packages (from pytorch-lightning>=1.5.0->nemo_toolkit[all]) (2021.11.1)\n",
            "Requirement already satisfied: pyDeprecate==0.3.1 in /usr/local/lib/python3.7/dist-packages (from pytorch-lightning>=1.5.0->nemo_toolkit[all]) (0.3.1)\n",
            "Requirement already satisfied: aiohttp in /usr/local/lib/python3.7/dist-packages (from fsspec[http]!=2021.06.0,>=2021.05.0->pytorch-lightning>=1.5.0->nemo_toolkit[all]) (3.8.1)\n",
            "Requirement already satisfied: requests in /usr/local/lib/python3.7/dist-packages (from fsspec[http]!=2021.06.0,>=2021.05.0->pytorch-lightning>=1.5.0->nemo_toolkit[all]) (2.23.0)\n",
            "Requirement already satisfied: joblib in /usr/local/lib/python3.7/dist-packages (from sacremoses>=0.0.43->nemo_toolkit[all]) (1.1.0)\n",
            "Requirement already satisfied: tomli>=1.0.0 in /usr/local/lib/python3.7/dist-packages (from setuptools-scm>=4->matplotlib->nemo_toolkit[all]) (1.2.2)\n",
            "Requirement already satisfied: setuptools in /usr/local/lib/python3.7/dist-packages (from setuptools-scm>=4->matplotlib->nemo_toolkit[all]) (57.4.0)\n",
            "Requirement already satisfied: tensorboard-plugin-wit>=1.6.0 in /usr/local/lib/python3.7/dist-packages (from tensorboard>=2.2.0->pytorch-lightning>=1.5.0->nemo_toolkit[all]) (1.8.0)\n",
            "Requirement already satisfied: markdown>=2.6.8 in /usr/local/lib/python3.7/dist-packages (from tensorboard>=2.2.0->pytorch-lightning>=1.5.0->nemo_toolkit[all]) (3.3.6)\n",
            "Requirement already satisfied: absl-py>=0.4 in /usr/local/lib/python3.7/dist-packages (from tensorboard>=2.2.0->pytorch-lightning>=1.5.0->nemo_toolkit[all]) (0.12.0)\n",
            "Requirement already satisfied: werkzeug>=0.11.15 in /usr/local/lib/python3.7/dist-packages (from tensorboard>=2.2.0->pytorch-lightning>=1.5.0->nemo_toolkit[all]) (1.0.1)\n",
            "Requirement already satisfied: wheel>=0.26 in /usr/local/lib/python3.7/dist-packages (from tensorboard>=2.2.0->pytorch-lightning>=1.5.0->nemo_toolkit[all]) (0.37.0)\n",
            "Requirement already satisfied: grpcio>=1.24.3 in /usr/local/lib/python3.7/dist-packages (from tensorboard>=2.2.0->pytorch-lightning>=1.5.0->nemo_toolkit[all]) (1.42.0)\n",
            "Requirement already satisfied: google-auth<3,>=1.6.3 in /usr/local/lib/python3.7/dist-packages (from tensorboard>=2.2.0->pytorch-lightning>=1.5.0->nemo_toolkit[all]) (1.35.0)\n",
            "Requirement already satisfied: tensorboard-data-server<0.7.0,>=0.6.0 in /usr/local/lib/python3.7/dist-packages (from tensorboard>=2.2.0->pytorch-lightning>=1.5.0->nemo_toolkit[all]) (0.6.1)\n",
            "Requirement already satisfied: google-auth-oauthlib<0.5,>=0.4.1 in /usr/local/lib/python3.7/dist-packages (from tensorboard>=2.2.0->pytorch-lightning>=1.5.0->nemo_toolkit[all]) (0.4.6)\n",
            "Requirement already satisfied: pyasn1-modules>=0.2.1 in /usr/local/lib/python3.7/dist-packages (from google-auth<3,>=1.6.3->tensorboard>=2.2.0->pytorch-lightning>=1.5.0->nemo_toolkit[all]) (0.2.8)\n",
            "Requirement already satisfied: cachetools<5.0,>=2.0.0 in /usr/local/lib/python3.7/dist-packages (from google-auth<3,>=1.6.3->tensorboard>=2.2.0->pytorch-lightning>=1.5.0->nemo_toolkit[all]) (4.2.4)\n",
            "Requirement already satisfied: rsa<5,>=3.1.4 in /usr/local/lib/python3.7/dist-packages (from google-auth<3,>=1.6.3->tensorboard>=2.2.0->pytorch-lightning>=1.5.0->nemo_toolkit[all]) (4.8)\n",
            "Requirement already satisfied: requests-oauthlib>=0.7.0 in /usr/local/lib/python3.7/dist-packages (from google-auth-oauthlib<0.5,>=0.4.1->tensorboard>=2.2.0->pytorch-lightning>=1.5.0->nemo_toolkit[all]) (1.3.0)\n",
            "Requirement already satisfied: importlib-metadata>=4.4 in /usr/local/lib/python3.7/dist-packages (from markdown>=2.6.8->tensorboard>=2.2.0->pytorch-lightning>=1.5.0->nemo_toolkit[all]) (4.8.2)\n",
            "Requirement already satisfied: zipp>=0.5 in /usr/local/lib/python3.7/dist-packages (from importlib-metadata>=4.4->markdown>=2.6.8->tensorboard>=2.2.0->pytorch-lightning>=1.5.0->nemo_toolkit[all]) (3.6.0)\n",
            "Requirement already satisfied: pyasn1<0.5.0,>=0.4.6 in /usr/local/lib/python3.7/dist-packages (from pyasn1-modules>=0.2.1->google-auth<3,>=1.6.3->tensorboard>=2.2.0->pytorch-lightning>=1.5.0->nemo_toolkit[all]) (0.4.8)\n",
            "Requirement already satisfied: idna<3,>=2.5 in /usr/local/lib/python3.7/dist-packages (from requests->fsspec[http]!=2021.06.0,>=2021.05.0->pytorch-lightning>=1.5.0->nemo_toolkit[all]) (2.10)\n",
            "Requirement already satisfied: urllib3!=1.25.0,!=1.25.1,<1.26,>=1.21.1 in /usr/local/lib/python3.7/dist-packages (from requests->fsspec[http]!=2021.06.0,>=2021.05.0->pytorch-lightning>=1.5.0->nemo_toolkit[all]) (1.25.11)\n",
            "Requirement already satisfied: certifi>=2017.4.17 in /usr/local/lib/python3.7/dist-packages (from requests->fsspec[http]!=2021.06.0,>=2021.05.0->pytorch-lightning>=1.5.0->nemo_toolkit[all]) (2021.10.8)\n",
            "Requirement already satisfied: chardet<4,>=3.0.2 in /usr/local/lib/python3.7/dist-packages (from requests->fsspec[http]!=2021.06.0,>=2021.05.0->pytorch-lightning>=1.5.0->nemo_toolkit[all]) (3.0.4)\n",
            "Requirement already satisfied: oauthlib>=3.0.0 in /usr/local/lib/python3.7/dist-packages (from requests-oauthlib>=0.7.0->google-auth-oauthlib<0.5,>=0.4.1->tensorboard>=2.2.0->pytorch-lightning>=1.5.0->nemo_toolkit[all]) (3.1.1)\n",
            "Requirement already satisfied: filelock in /usr/local/lib/python3.7/dist-packages (from transformers>=4.0.1->nemo_toolkit[all]) (3.4.0)\n",
            "Requirement already satisfied: tokenizers<0.11,>=0.10.1 in /usr/local/lib/python3.7/dist-packages (from transformers>=4.0.1->nemo_toolkit[all]) (0.10.3)\n",
            "Requirement already satisfied: huggingface-hub<1.0,>=0.1.0 in /usr/local/lib/python3.7/dist-packages (from transformers>=4.0.1->nemo_toolkit[all]) (0.2.1)\n",
            "Requirement already satisfied: asynctest==0.13.0 in /usr/local/lib/python3.7/dist-packages (from aiohttp->fsspec[http]!=2021.06.0,>=2021.05.0->pytorch-lightning>=1.5.0->nemo_toolkit[all]) (0.13.0)\n",
            "Requirement already satisfied: multidict<7.0,>=4.5 in /usr/local/lib/python3.7/dist-packages (from aiohttp->fsspec[http]!=2021.06.0,>=2021.05.0->pytorch-lightning>=1.5.0->nemo_toolkit[all]) (5.2.0)\n",
            "Requirement already satisfied: aiosignal>=1.1.2 in /usr/local/lib/python3.7/dist-packages (from aiohttp->fsspec[http]!=2021.06.0,>=2021.05.0->pytorch-lightning>=1.5.0->nemo_toolkit[all]) (1.2.0)\n",
            "Requirement already satisfied: yarl<2.0,>=1.0 in /usr/local/lib/python3.7/dist-packages (from aiohttp->fsspec[http]!=2021.06.0,>=2021.05.0->pytorch-lightning>=1.5.0->nemo_toolkit[all]) (1.7.2)\n",
            "Requirement already satisfied: async-timeout<5.0,>=4.0.0a3 in /usr/local/lib/python3.7/dist-packages (from aiohttp->fsspec[http]!=2021.06.0,>=2021.05.0->pytorch-lightning>=1.5.0->nemo_toolkit[all]) (4.0.1)\n",
            "Requirement already satisfied: charset-normalizer<3.0,>=2.0 in /usr/local/lib/python3.7/dist-packages (from aiohttp->fsspec[http]!=2021.06.0,>=2021.05.0->pytorch-lightning>=1.5.0->nemo_toolkit[all]) (2.0.8)\n",
            "Requirement already satisfied: frozenlist>=1.1.1 in /usr/local/lib/python3.7/dist-packages (from aiohttp->fsspec[http]!=2021.06.0,>=2021.05.0->pytorch-lightning>=1.5.0->nemo_toolkit[all]) (1.2.0)\n",
            "Requirement already satisfied: s3transfer<0.6.0,>=0.5.0 in /usr/local/lib/python3.7/dist-packages (from boto3->nemo_toolkit[all]) (0.5.0)\n",
            "Requirement already satisfied: botocore<1.24.0,>=1.23.22 in /usr/local/lib/python3.7/dist-packages (from boto3->nemo_toolkit[all]) (1.23.22)\n",
            "Requirement already satisfied: jmespath<1.0.0,>=0.7.1 in /usr/local/lib/python3.7/dist-packages (from boto3->nemo_toolkit[all]) (0.10.0)\n",
            "Requirement already satisfied: pybind11>=2.2 in /usr/local/lib/python3.7/dist-packages (from fasttext->nemo_toolkit[all]) (2.8.1)\n",
            "Requirement already satisfied: distance>=0.1.3 in /usr/local/lib/python3.7/dist-packages (from g2p_en->nemo_toolkit[all]) (0.1.3)\n",
            "Requirement already satisfied: cached-property in /usr/local/lib/python3.7/dist-packages (from h5py->nemo_toolkit[all]) (1.5.2)\n",
            "Requirement already satisfied: traitlets>=4.3.1 in /usr/local/lib/python3.7/dist-packages (from ipywidgets->nemo_toolkit[all]) (5.1.1)\n",
            "Requirement already satisfied: ipykernel>=4.5.1 in /usr/local/lib/python3.7/dist-packages (from ipywidgets->nemo_toolkit[all]) (4.10.1)\n",
            "Requirement already satisfied: nbformat>=4.2.0 in /usr/local/lib/python3.7/dist-packages (from ipywidgets->nemo_toolkit[all]) (5.1.3)\n",
            "Requirement already satisfied: ipython-genutils~=0.2.0 in /usr/local/lib/python3.7/dist-packages (from ipywidgets->nemo_toolkit[all]) (0.2.0)\n",
            "Requirement already satisfied: ipython>=4.0.0 in /usr/local/lib/python3.7/dist-packages (from ipywidgets->nemo_toolkit[all]) (5.5.0)\n",
            "Requirement already satisfied: jupyterlab-widgets>=1.0.0 in /usr/local/lib/python3.7/dist-packages (from ipywidgets->nemo_toolkit[all]) (1.0.2)\n",
            "Requirement already satisfied: widgetsnbextension~=3.5.0 in /usr/local/lib/python3.7/dist-packages (from ipywidgets->nemo_toolkit[all]) (3.5.2)\n",
            "Requirement already satisfied: tornado>=4.0 in /usr/local/lib/python3.7/dist-packages (from ipykernel>=4.5.1->ipywidgets->nemo_toolkit[all]) (5.1.1)\n",
            "Requirement already satisfied: jupyter-client in /usr/local/lib/python3.7/dist-packages (from ipykernel>=4.5.1->ipywidgets->nemo_toolkit[all]) (5.3.5)\n",
            "Requirement already satisfied: simplegeneric>0.8 in /usr/local/lib/python3.7/dist-packages (from ipython>=4.0.0->ipywidgets->nemo_toolkit[all]) (0.8.1)\n",
            "Requirement already satisfied: prompt-toolkit<2.0.0,>=1.0.4 in /usr/local/lib/python3.7/dist-packages (from ipython>=4.0.0->ipywidgets->nemo_toolkit[all]) (1.0.18)\n",
            "Requirement already satisfied: pexpect in /usr/local/lib/python3.7/dist-packages (from ipython>=4.0.0->ipywidgets->nemo_toolkit[all]) (4.8.0)\n",
            "Requirement already satisfied: decorator in /usr/local/lib/python3.7/dist-packages (from ipython>=4.0.0->ipywidgets->nemo_toolkit[all]) (4.4.2)\n",
            "Requirement already satisfied: pygments in /usr/local/lib/python3.7/dist-packages (from ipython>=4.0.0->ipywidgets->nemo_toolkit[all]) (2.6.1)\n",
            "Requirement already satisfied: pickleshare in /usr/local/lib/python3.7/dist-packages (from ipython>=4.0.0->ipywidgets->nemo_toolkit[all]) (0.7.5)\n",
            "Requirement already satisfied: jsonschema!=2.5.0,>=2.4 in /usr/local/lib/python3.7/dist-packages (from nbformat>=4.2.0->ipywidgets->nemo_toolkit[all]) (2.6.0)\n",
            "Requirement already satisfied: jupyter-core in /usr/local/lib/python3.7/dist-packages (from nbformat>=4.2.0->ipywidgets->nemo_toolkit[all]) (4.9.1)\n",
            "Requirement already satisfied: wcwidth in /usr/local/lib/python3.7/dist-packages (from prompt-toolkit<2.0.0,>=1.0.4->ipython>=4.0.0->ipywidgets->nemo_toolkit[all]) (0.2.5)\n",
            "Requirement already satisfied: notebook>=4.4.1 in /usr/local/lib/python3.7/dist-packages (from widgetsnbextension~=3.5.0->ipywidgets->nemo_toolkit[all]) (5.3.1)\n",
            "Requirement already satisfied: jinja2 in /usr/local/lib/python3.7/dist-packages (from notebook>=4.4.1->widgetsnbextension~=3.5.0->ipywidgets->nemo_toolkit[all]) (2.11.3)\n",
            "Requirement already satisfied: Send2Trash in /usr/local/lib/python3.7/dist-packages (from notebook>=4.4.1->widgetsnbextension~=3.5.0->ipywidgets->nemo_toolkit[all]) (1.8.0)\n",
            "Requirement already satisfied: nbconvert in /usr/local/lib/python3.7/dist-packages (from notebook>=4.4.1->widgetsnbextension~=3.5.0->ipywidgets->nemo_toolkit[all]) (5.6.1)\n",
            "Requirement already satisfied: terminado>=0.8.1 in /usr/local/lib/python3.7/dist-packages (from notebook>=4.4.1->widgetsnbextension~=3.5.0->ipywidgets->nemo_toolkit[all]) (0.12.1)\n",
            "Requirement already satisfied: pyzmq>=13 in /usr/local/lib/python3.7/dist-packages (from jupyter-client->ipykernel>=4.5.1->ipywidgets->nemo_toolkit[all]) (22.3.0)\n",
            "Requirement already satisfied: ptyprocess in /usr/local/lib/python3.7/dist-packages (from terminado>=0.8.1->notebook>=4.4.1->widgetsnbextension~=3.5.0->ipywidgets->nemo_toolkit[all]) (0.7.0)\n",
            "Requirement already satisfied: MarkupSafe>=0.23 in /usr/local/lib/python3.7/dist-packages (from jinja2->notebook>=4.4.1->widgetsnbextension~=3.5.0->ipywidgets->nemo_toolkit[all]) (2.0.1)\n",
            "Requirement already satisfied: resampy>=0.2.2 in /usr/local/lib/python3.7/dist-packages (from librosa->nemo_toolkit[all]) (0.2.2)\n",
            "Requirement already satisfied: audioread>=2.0.0 in /usr/local/lib/python3.7/dist-packages (from librosa->nemo_toolkit[all]) (2.1.9)\n",
            "Requirement already satisfied: pooch>=1.0 in /usr/local/lib/python3.7/dist-packages (from librosa->nemo_toolkit[all]) (1.5.2)\n",
            "Requirement already satisfied: llvmlite<0.35,>=0.34.0.dev0 in /usr/local/lib/python3.7/dist-packages (from numba->nemo_toolkit[all]) (0.34.0)\n",
            "Requirement already satisfied: threadpoolctl>=2.0.0 in /usr/local/lib/python3.7/dist-packages (from scikit-learn->nemo_toolkit[all]) (3.0.0)\n",
            "Requirement already satisfied: cffi>=1.0 in /usr/local/lib/python3.7/dist-packages (from soundfile->nemo_toolkit[all]) (1.15.0)\n",
            "Requirement already satisfied: pycparser in /usr/local/lib/python3.7/dist-packages (from cffi>=1.0->soundfile->nemo_toolkit[all]) (2.21)\n",
            "Requirement already satisfied: bleach in /usr/local/lib/python3.7/dist-packages (from nbconvert->notebook>=4.4.1->widgetsnbextension~=3.5.0->ipywidgets->nemo_toolkit[all]) (4.1.0)\n",
            "Requirement already satisfied: testpath in /usr/local/lib/python3.7/dist-packages (from nbconvert->notebook>=4.4.1->widgetsnbextension~=3.5.0->ipywidgets->nemo_toolkit[all]) (0.5.0)\n",
            "Requirement already satisfied: pandocfilters>=1.4.1 in /usr/local/lib/python3.7/dist-packages (from nbconvert->notebook>=4.4.1->widgetsnbextension~=3.5.0->ipywidgets->nemo_toolkit[all]) (1.5.0)\n",
            "Requirement already satisfied: defusedxml in /usr/local/lib/python3.7/dist-packages (from nbconvert->notebook>=4.4.1->widgetsnbextension~=3.5.0->ipywidgets->nemo_toolkit[all]) (0.7.1)\n",
            "Requirement already satisfied: mistune<2,>=0.8.1 in /usr/local/lib/python3.7/dist-packages (from nbconvert->notebook>=4.4.1->widgetsnbextension~=3.5.0->ipywidgets->nemo_toolkit[all]) (0.8.4)\n",
            "Requirement already satisfied: entrypoints>=0.2.2 in /usr/local/lib/python3.7/dist-packages (from nbconvert->notebook>=4.4.1->widgetsnbextension~=3.5.0->ipywidgets->nemo_toolkit[all]) (0.3)\n",
            "Requirement already satisfied: webencodings in /usr/local/lib/python3.7/dist-packages (from bleach->nbconvert->notebook>=4.4.1->widgetsnbextension~=3.5.0->ipywidgets->nemo_toolkit[all]) (0.5.1)\n",
            "Requirement already satisfied: pytz>=2017.2 in /usr/local/lib/python3.7/dist-packages (from pandas->nemo_toolkit[all]) (2018.9)\n",
            "Requirement already satisfied: pip in /usr/local/lib/python3.7/dist-packages (from pip-api->isort[requirements]<5->nemo_toolkit[all]) (21.1.3)\n",
            "Requirement already satisfied: docopt in /usr/local/lib/python3.7/dist-packages (from pipreqs->isort[requirements]<5->nemo_toolkit[all]) (0.6.2)\n",
            "Requirement already satisfied: yarg in /usr/local/lib/python3.7/dist-packages (from pipreqs->isort[requirements]<5->nemo_toolkit[all]) (0.1.9)\n",
            "Requirement already satisfied: simplejson>=3.8.1 in /usr/local/lib/python3.7/dist-packages (from pyannote.core->nemo_toolkit[all]) (3.17.6)\n",
            "Requirement already satisfied: sortedcontainers>=2.0.4 in /usr/local/lib/python3.7/dist-packages (from pyannote.core->nemo_toolkit[all]) (2.4.0)\n",
            "Requirement already satisfied: tabulate>=0.7.7 in /usr/local/lib/python3.7/dist-packages (from pyannote.metrics->nemo_toolkit[all]) (0.8.9)\n",
            "Requirement already satisfied: sympy>=1.1 in /usr/local/lib/python3.7/dist-packages (from pyannote.metrics->nemo_toolkit[all]) (1.7.1)\n",
            "Requirement already satisfied: pyannote.database>=4.0.1 in /usr/local/lib/python3.7/dist-packages (from pyannote.metrics->nemo_toolkit[all]) (4.1.1)\n",
            "Requirement already satisfied: typer[all]>=0.2.1 in /usr/local/lib/python3.7/dist-packages (from pyannote.database>=4.0.1->pyannote.metrics->nemo_toolkit[all]) (0.4.0)\n",
            "Requirement already satisfied: mpmath>=0.19 in /usr/local/lib/python3.7/dist-packages (from sympy>=1.1->pyannote.metrics->nemo_toolkit[all]) (1.2.1)\n",
            "Requirement already satisfied: colorama<0.5.0,>=0.4.3 in /usr/local/lib/python3.7/dist-packages (from typer[all]>=0.2.1->pyannote.database>=4.0.1->pyannote.metrics->nemo_toolkit[all]) (0.4.4)\n",
            "Requirement already satisfied: shellingham<2.0.0,>=1.3.0 in /usr/local/lib/python3.7/dist-packages (from typer[all]>=0.2.1->pyannote.database>=4.0.1->pyannote.metrics->nemo_toolkit[all]) (1.4.0)\n",
            "Requirement already satisfied: more-itertools>=4.0.0 in /usr/local/lib/python3.7/dist-packages (from pytest->nemo_toolkit[all]) (8.12.0)\n",
            "Requirement already satisfied: py>=1.5.0 in /usr/local/lib/python3.7/dist-packages (from pytest->nemo_toolkit[all]) (1.11.0)\n",
            "Requirement already satisfied: atomicwrites>=1.0 in /usr/local/lib/python3.7/dist-packages (from pytest->nemo_toolkit[all]) (1.4.0)\n",
            "Requirement already satisfied: pluggy<0.8,>=0.5 in /usr/local/lib/python3.7/dist-packages (from pytest->nemo_toolkit[all]) (0.7.1)\n",
            "Requirement already satisfied: ruamel.yaml.clib>=0.1.2 in /usr/local/lib/python3.7/dist-packages (from ruamel.yaml->nemo_toolkit[all]) (0.2.6)\n",
            "Requirement already satisfied: portalocker in /usr/local/lib/python3.7/dist-packages (from sacrebleu[ja]->nemo_toolkit[all]) (2.3.2)\n",
            "Requirement already satisfied: ipadic<2.0,>=1.0 in /usr/local/lib/python3.7/dist-packages (from sacrebleu[ja]->nemo_toolkit[all]) (1.0.0)\n",
            "Requirement already satisfied: mecab-python3==1.0.3 in /usr/local/lib/python3.7/dist-packages (from sacrebleu[ja]->nemo_toolkit[all]) (1.0.3)\n",
            "Requirement already satisfied: imagesize in /usr/local/lib/python3.7/dist-packages (from sphinx->nemo_toolkit[all]) (1.3.0)\n",
            "Requirement already satisfied: sphinxcontrib-applehelp in /usr/local/lib/python3.7/dist-packages (from sphinx->nemo_toolkit[all]) (1.0.2)\n",
            "Requirement already satisfied: alabaster<0.8,>=0.7 in /usr/local/lib/python3.7/dist-packages (from sphinx->nemo_toolkit[all]) (0.7.12)\n",
            "Requirement already satisfied: sphinxcontrib-htmlhelp>=2.0.0 in /usr/local/lib/python3.7/dist-packages (from sphinx->nemo_toolkit[all]) (2.0.0)\n",
            "Requirement already satisfied: sphinxcontrib-devhelp in /usr/local/lib/python3.7/dist-packages (from sphinx->nemo_toolkit[all]) (1.0.2)\n",
            "Requirement already satisfied: babel>=1.3 in /usr/local/lib/python3.7/dist-packages (from sphinx->nemo_toolkit[all]) (2.9.1)\n",
            "Requirement already satisfied: snowballstemmer>=1.1 in /usr/local/lib/python3.7/dist-packages (from sphinx->nemo_toolkit[all]) (2.2.0)\n",
            "Requirement already satisfied: docutils<0.18,>=0.14 in /usr/local/lib/python3.7/dist-packages (from sphinx->nemo_toolkit[all]) (0.17.1)\n",
            "Requirement already satisfied: sphinxcontrib-jsmath in /usr/local/lib/python3.7/dist-packages (from sphinx->nemo_toolkit[all]) (1.0.1)\n",
            "Requirement already satisfied: sphinxcontrib-serializinghtml>=1.1.5 in /usr/local/lib/python3.7/dist-packages (from sphinx->nemo_toolkit[all]) (1.1.5)\n",
            "Requirement already satisfied: sphinxcontrib-qthelp in /usr/local/lib/python3.7/dist-packages (from sphinx->nemo_toolkit[all]) (1.0.3)\n",
            "Requirement already satisfied: pybtex-docutils>=1.0.0 in /usr/local/lib/python3.7/dist-packages (from sphinxcontrib-bibtex->nemo_toolkit[all]) (1.0.1)\n",
            "Requirement already satisfied: pybtex>=0.20 in /usr/local/lib/python3.7/dist-packages (from sphinxcontrib-bibtex->nemo_toolkit[all]) (0.24.0)\n",
            "Requirement already satisfied: latexcodec>=1.0.4 in /usr/local/lib/python3.7/dist-packages (from pybtex>=0.20->sphinxcontrib-bibtex->nemo_toolkit[all]) (2.0.1)\n",
            "Requirement already satisfied: GitPython>=1.0.0 in /usr/local/lib/python3.7/dist-packages (from wandb->nemo_toolkit[all]) (3.1.24)\n",
            "Requirement already satisfied: yaspin>=1.0.0 in /usr/local/lib/python3.7/dist-packages (from wandb->nemo_toolkit[all]) (2.1.0)\n",
            "Requirement already satisfied: pathtools in /usr/local/lib/python3.7/dist-packages (from wandb->nemo_toolkit[all]) (0.1.2)\n",
            "Requirement already satisfied: subprocess32>=3.5.3 in /usr/local/lib/python3.7/dist-packages (from wandb->nemo_toolkit[all]) (3.5.4)\n",
            "Requirement already satisfied: shortuuid>=0.5.0 in /usr/local/lib/python3.7/dist-packages (from wandb->nemo_toolkit[all]) (1.0.8)\n",
            "Requirement already satisfied: promise<3,>=2.0 in /usr/local/lib/python3.7/dist-packages (from wandb->nemo_toolkit[all]) (2.3)\n",
            "Requirement already satisfied: sentry-sdk>=1.0.0 in /usr/local/lib/python3.7/dist-packages (from wandb->nemo_toolkit[all]) (1.5.0)\n",
            "Requirement already satisfied: psutil>=5.0.0 in /usr/local/lib/python3.7/dist-packages (from wandb->nemo_toolkit[all]) (5.4.8)\n",
            "Requirement already satisfied: configparser>=3.8.1 in /usr/local/lib/python3.7/dist-packages (from wandb->nemo_toolkit[all]) (5.2.0)\n",
            "Requirement already satisfied: docker-pycreds>=0.4.0 in /usr/local/lib/python3.7/dist-packages (from wandb->nemo_toolkit[all]) (0.4.0)\n",
            "Requirement already satisfied: gitdb<5,>=4.0.1 in /usr/local/lib/python3.7/dist-packages (from GitPython>=1.0.0->wandb->nemo_toolkit[all]) (4.0.9)\n",
            "Requirement already satisfied: smmap<6,>=3.0.1 in /usr/local/lib/python3.7/dist-packages (from gitdb<5,>=4.0.1->GitPython>=1.0.0->wandb->nemo_toolkit[all]) (5.0.0)\n",
            "Requirement already satisfied: termcolor<2.0.0,>=1.1.0 in /usr/local/lib/python3.7/dist-packages (from yaspin>=1.0.0->wandb->nemo_toolkit[all]) (1.1.0)\n"
          ]
        }
      ],
      "source": [
        "!git clone https://github.com/tcapelle/nvidia_nemo_wandb/\n",
        "\n",
        "BRANCH = 'r1.5.0'\n",
        "!python -m pip install git+https://github.com/NVIDIA/NeMo.git@$BRANCH#egg=nemo_toolkit[all]"
      ]
    },
    {
      "cell_type": "markdown",
      "metadata": {
        "id": "EyJ5HiiPrPKA"
      },
      "source": [
        "## Import all necessary packages"
      ]
    },
    {
      "cell_type": "code",
      "execution_count": 2,
      "metadata": {
        "colab": {
          "base_uri": "https://localhost:8080/"
        },
        "id": "tdUqxeUEA8nw",
        "outputId": "69139e39-cde0-4c00-b69e-f01cf63e001a"
      },
      "outputs": [
        {
          "output_type": "stream",
          "name": "stderr",
          "text": [
            "[NeMo W 2021-12-09 13:29:19 optimizers:50] Apex was not found. Using the lamb or fused_adam optimizer will error out.\n",
            "################################################################################\n",
            "### WARNING, path does not exist: KALDI_ROOT=/mnt/matylda5/iveselyk/Tools/kaldi-trunk\n",
            "###          (please add 'export KALDI_ROOT=<your_path>' in your $HOME/.profile)\n",
            "###          (or run as: KALDI_ROOT=<your_path> python <your_script>.py)\n",
            "################################################################################\n",
            "\n",
            "[NeMo W 2021-12-09 13:29:21 experimental:28] Module <class 'nemo.collections.nlp.data.text_normalization.decoder_dataset.TextNormalizationDecoderDataset'> is experimental, not ready for production and is not fully supported. Use at your own risk.\n",
            "[NeMo W 2021-12-09 13:29:21 experimental:28] Module <class 'nemo.collections.nlp.data.text_normalization.tagger_dataset.TextNormalizationTaggerDataset'> is experimental, not ready for production and is not fully supported. Use at your own risk.\n",
            "[NeMo W 2021-12-09 13:29:21 experimental:28] Module <class 'nemo.collections.nlp.data.text_normalization.test_dataset.TextNormalizationTestDataset'> is experimental, not ready for production and is not fully supported. Use at your own risk.\n",
            "[NeMo W 2021-12-09 13:29:21 __init__:23] `pynini` is not installed ! \n",
            "    Please run the `nemo_text_processing/setup.sh` scriptprior to usage of this toolkit.\n",
            "[NeMo W 2021-12-09 13:29:21 experimental:28] Module <class 'nemo.collections.nlp.models.duplex_text_normalization.duplex_decoder.DuplexDecoderModel'> is experimental, not ready for production and is not fully supported. Use at your own risk.\n",
            "[NeMo W 2021-12-09 13:29:21 experimental:28] Module <class 'nemo.collections.nlp.models.duplex_text_normalization.duplex_tagger.DuplexTaggerModel'> is experimental, not ready for production and is not fully supported. Use at your own risk.\n",
            "[NeMo W 2021-12-09 13:29:21 experimental:28] Module <class 'nemo.collections.nlp.models.duplex_text_normalization.duplex_tn.DuplexTextNormalizationModel'> is experimental, not ready for production and is not fully supported. Use at your own risk.\n"
          ]
        }
      ],
      "source": [
        "from pathlib import Path\n",
        "\n",
        "# Import NeMo and it's ASR, NLP and TTS collections\n",
        "import nemo\n",
        "# Import Speech Recognition collection\n",
        "import nemo.collections.asr as nemo_asr\n",
        "# Import Natural Language Processing colleciton\n",
        "import nemo.collections.nlp as nemo_nlp\n",
        "# Import Speech Synthesis collection\n",
        "import nemo.collections.tts as nemo_tts\n",
        "# We'll use this to listen to audio\n",
        "import IPython"
      ]
    },
    {
      "cell_type": "markdown",
      "metadata": {
        "id": "bt2EZyU3A1aq"
      },
      "source": [
        "## Instantiate pre-trained NeMo models\n",
        "\n",
        "Every NeMo model has these methods:\n",
        "\n",
        "* ``list_available_models()`` - it will list all models currently available on NGC and their names.\n",
        "\n",
        "* ``from_pretrained(...)`` API downloads and initialized model directly from the NGC using model name.\n"
      ]
    },
    {
      "cell_type": "code",
      "execution_count": 3,
      "metadata": {
        "colab": {
          "base_uri": "https://localhost:8080/"
        },
        "id": "YNNHs5Xjr8ox",
        "outputId": "b71e011e-9418-4391-afcf-d345a81464e4",
        "scrolled": true
      },
      "outputs": [
        {
          "output_type": "execute_result",
          "data": {
            "text/plain": [
              "[PretrainedModelInfo(\n",
              " \tpretrained_model_name=QuartzNet15x5Base-En,\n",
              " \tdescription=QuartzNet15x5 model trained on six datasets: LibriSpeech, Mozilla Common Voice (validated clips from en_1488h_2019-12-10), WSJ, Fisher, Switchboard, and NSC Singapore English. It was trained with Apex/Amp optimization level O1 for 600 epochs. The model achieves a WER of 3.79% on LibriSpeech dev-clean, and a WER of 10.05% on dev-other. Please visit https://ngc.nvidia.com/catalog/models/nvidia:nemospeechmodels for further details.,\n",
              " \tlocation=https://api.ngc.nvidia.com/v2/models/nvidia/nemospeechmodels/versions/1.0.0a5/files/QuartzNet15x5Base-En.nemo\n",
              " ), PretrainedModelInfo(\n",
              " \tpretrained_model_name=stt_en_quartznet15x5,\n",
              " \tdescription=For details about this model, please visit https://ngc.nvidia.com/catalog/models/nvidia:nemo:stt_en_quartznet15x5,\n",
              " \tlocation=https://api.ngc.nvidia.com/v2/models/nvidia/nemo/stt_en_quartznet15x5/versions/1.0.0rc1/files/stt_en_quartznet15x5.nemo\n",
              " ), PretrainedModelInfo(\n",
              " \tpretrained_model_name=stt_en_jasper10x5dr,\n",
              " \tdescription=For details about this model, please visit https://ngc.nvidia.com/catalog/models/nvidia:nemo:stt_en_jasper10x5dr,\n",
              " \tlocation=https://api.ngc.nvidia.com/v2/models/nvidia/nemo/stt_en_jasper10x5dr/versions/1.0.0rc1/files/stt_en_jasper10x5dr.nemo\n",
              " ), PretrainedModelInfo(\n",
              " \tpretrained_model_name=stt_ca_quartznet15x5,\n",
              " \tdescription=For details about this model, please visit https://ngc.nvidia.com/catalog/models/nvidia:nemo:stt_ca_quartznet15x5,\n",
              " \tlocation=https://api.ngc.nvidia.com/v2/models/nvidia/nemo/stt_ca_quartznet15x5/versions/1.0.0rc1/files/stt_ca_quartznet15x5.nemo\n",
              " ), PretrainedModelInfo(\n",
              " \tpretrained_model_name=stt_it_quartznet15x5,\n",
              " \tdescription=For details about this model, please visit https://ngc.nvidia.com/catalog/models/nvidia:nemo:stt_it_quartznet15x5,\n",
              " \tlocation=https://api.ngc.nvidia.com/v2/models/nvidia/nemo/stt_it_quartznet15x5/versions/1.0.0rc1/files/stt_it_quartznet15x5.nemo\n",
              " ), PretrainedModelInfo(\n",
              " \tpretrained_model_name=stt_fr_quartznet15x5,\n",
              " \tdescription=For details about this model, please visit https://ngc.nvidia.com/catalog/models/nvidia:nemo:stt_fr_quartznet15x5,\n",
              " \tlocation=https://api.ngc.nvidia.com/v2/models/nvidia/nemo/stt_fr_quartznet15x5/versions/1.0.0rc1/files/stt_fr_quartznet15x5.nemo\n",
              " ), PretrainedModelInfo(\n",
              " \tpretrained_model_name=stt_es_quartznet15x5,\n",
              " \tdescription=For details about this model, please visit https://ngc.nvidia.com/catalog/models/nvidia:nemo:stt_es_quartznet15x5,\n",
              " \tlocation=https://api.ngc.nvidia.com/v2/models/nvidia/nemo/stt_es_quartznet15x5/versions/1.0.0rc1/files/stt_es_quartznet15x5.nemo\n",
              " ), PretrainedModelInfo(\n",
              " \tpretrained_model_name=stt_de_quartznet15x5,\n",
              " \tdescription=For details about this model, please visit https://ngc.nvidia.com/catalog/models/nvidia:nemo:stt_de_quartznet15x5,\n",
              " \tlocation=https://api.ngc.nvidia.com/v2/models/nvidia/nemo/stt_de_quartznet15x5/versions/1.0.0rc1/files/stt_de_quartznet15x5.nemo\n",
              " ), PretrainedModelInfo(\n",
              " \tpretrained_model_name=stt_pl_quartznet15x5,\n",
              " \tdescription=For details about this model, please visit https://ngc.nvidia.com/catalog/models/nvidia:nemo:stt_pl_quartznet15x5,\n",
              " \tlocation=https://api.ngc.nvidia.com/v2/models/nvidia/nemo/stt_pl_quartznet15x5/versions/1.0.0rc1/files/stt_pl_quartznet15x5.nemo\n",
              " ), PretrainedModelInfo(\n",
              " \tpretrained_model_name=stt_ru_quartznet15x5,\n",
              " \tdescription=For details about this model, please visit https://ngc.nvidia.com/catalog/models/nvidia:nemo:stt_ru_quartznet15x5,\n",
              " \tlocation=https://api.ngc.nvidia.com/v2/models/nvidia/nemo/stt_ru_quartznet15x5/versions/1.0.0rc1/files/stt_ru_quartznet15x5.nemo\n",
              " ), PretrainedModelInfo(\n",
              " \tpretrained_model_name=stt_zh_citrinet_512,\n",
              " \tdescription=For details about this model, please visit https://ngc.nvidia.com/catalog/models/nvidia:nemo:stt_zh_citrinet_512,\n",
              " \tlocation=https://api.ngc.nvidia.com/v2/models/nvidia/nemo/stt_zh_citrinet_512/versions/1.0.0rc1/files/stt_zh_citrinet_512.nemo\n",
              " ), PretrainedModelInfo(\n",
              " \tpretrained_model_name=stt_zh_citrinet_1024_gamma_0_25,\n",
              " \tdescription=For details about this model, please visit https://ngc.nvidia.com/catalog/models/nvidia:nemo:stt_zh_citrinet_1024_gamma_0_25,\n",
              " \tlocation=https://api.ngc.nvidia.com/v2/models/nvidia/nemo/stt_zh_citrinet_1024_gamma_0_25/versions/1.0.0/files/stt_zh_citrinet_1024_gamma_0_25.nemo\n",
              " ), PretrainedModelInfo(\n",
              " \tpretrained_model_name=stt_zh_citrinet_1024_gamma_0_25,\n",
              " \tdescription=For details about this model, please visit https://ngc.nvidia.com/catalog/models/nvidia:nemo:stt_zh_citrinet_1024_gamma_0_25,\n",
              " \tlocation=https://api.ngc.nvidia.com/v2/models/nvidia/nemo/stt_zh_citrinet_1024_gamma_0_25/versions/1.0.0/files/stt_zh_citrinet_1024_gamma_0_25.nemo\n",
              " ), PretrainedModelInfo(\n",
              " \tpretrained_model_name=asr_talknet_aligner,\n",
              " \tdescription=For details about this model, please visit https://ngc.nvidia.com/catalog/models/nvidia:nemo:asr_talknet_aligner,\n",
              " \tlocation=https://api.ngc.nvidia.com/v2/models/nvidia/nemo/asr_talknet_aligner/versions/1.0.0rc1/files/qn5x5_libri_tts_phonemes.nemo\n",
              " )]"
            ]
          },
          "metadata": {},
          "execution_count": 3
        }
      ],
      "source": [
        "# Here is an example of all CTC-based models:\n",
        "nemo_asr.models.EncDecCTCModel.list_available_models()\n",
        "# More ASR Models are available - see: nemo_asr.models.ASRModel.list_available_models()"
      ]
    },
    {
      "cell_type": "code",
      "execution_count": 4,
      "metadata": {
        "colab": {
          "base_uri": "https://localhost:8080/"
        },
        "id": "Xr-OzMNOfBVh",
        "outputId": "dc4916fe-1c04-4a03-e31a-acd5348b5420"
      },
      "outputs": [
        {
          "output_type": "execute_result",
          "data": {
            "text/plain": [
              "[PretrainedModelInfo(\n",
              " \tpretrained_model_name=nmt_en_de_transformer12x2,\n",
              " \tdescription=En->De translation model. See details here: https://ngc.nvidia.com/catalog/models/nvidia:nemo:nmt_en_de_transformer12x2,\n",
              " \tlocation=https://api.ngc.nvidia.com/v2/models/nvidia/nemo/nmt_en_de_transformer12x2/versions/1.0.0rc1/files/nmt_en_de_transformer12x2.nemo\n",
              " ), PretrainedModelInfo(\n",
              " \tpretrained_model_name=nmt_de_en_transformer12x2,\n",
              " \tdescription=De->En translation model. See details here: https://ngc.nvidia.com/catalog/models/nvidia:nemo:nmt_de_en_transformer12x2,\n",
              " \tlocation=https://api.ngc.nvidia.com/v2/models/nvidia/nemo/nmt_de_en_transformer12x2/versions/1.0.0rc1/files/nmt_de_en_transformer12x2.nemo\n",
              " ), PretrainedModelInfo(\n",
              " \tpretrained_model_name=nmt_en_es_transformer12x2,\n",
              " \tdescription=En->Es translation model. See details here: https://ngc.nvidia.com/catalog/models/nvidia:nemo:nmt_en_es_transformer12x2,\n",
              " \tlocation=https://api.ngc.nvidia.com/v2/models/nvidia/nemo/nmt_en_es_transformer12x2/versions/1.0.0rc1/files/nmt_en_es_transformer12x2.nemo\n",
              " ), PretrainedModelInfo(\n",
              " \tpretrained_model_name=nmt_es_en_transformer12x2,\n",
              " \tdescription=Es->En translation model. See details here: https://ngc.nvidia.com/catalog/models/nvidia:nemo:nmt_es_en_transformer12x2,\n",
              " \tlocation=https://api.ngc.nvidia.com/v2/models/nvidia/nemo/nmt_es_en_transformer12x2/versions/1.0.0rc1/files/nmt_es_en_transformer12x2.nemo\n",
              " ), PretrainedModelInfo(\n",
              " \tpretrained_model_name=nmt_en_fr_transformer12x2,\n",
              " \tdescription=En->Fr translation model. See details here: https://ngc.nvidia.com/catalog/models/nvidia:nemo:nmt_en_fr_transformer12x2,\n",
              " \tlocation=https://api.ngc.nvidia.com/v2/models/nvidia/nemo/nmt_en_fr_transformer12x2/versions/1.0.0rc1/files/nmt_en_fr_transformer12x2.nemo\n",
              " ), PretrainedModelInfo(\n",
              " \tpretrained_model_name=nmt_fr_en_transformer12x2,\n",
              " \tdescription=Fr->En translation model. See details here: https://ngc.nvidia.com/catalog/models/nvidia:nemo:nmt_fr_en_transformer12x2,\n",
              " \tlocation=https://api.ngc.nvidia.com/v2/models/nvidia/nemo/nmt_fr_en_transformer12x2/versions/1.0.0rc1/files/nmt_fr_en_transformer12x2.nemo\n",
              " ), PretrainedModelInfo(\n",
              " \tpretrained_model_name=nmt_en_ru_transformer6x6,\n",
              " \tdescription=En->Ru translation model. See details here: https://ngc.nvidia.com/catalog/models/nvidia:nemo:nmt_en_ru_transformer6x6,\n",
              " \tlocation=https://api.ngc.nvidia.com/v2/models/nvidia/nemo/nmt_en_ru_transformer6x6/versions/1.0.0rc1/files/nmt_en_ru_transformer6x6.nemo\n",
              " ), PretrainedModelInfo(\n",
              " \tpretrained_model_name=nmt_ru_en_transformer6x6,\n",
              " \tdescription=Ru->En translation model. See details here: https://ngc.nvidia.com/catalog/models/nvidia:nemo:nmt_ru_en_transformer6x6,\n",
              " \tlocation=https://api.ngc.nvidia.com/v2/models/nvidia/nemo/nmt_ru_en_transformer6x6/versions/1.0.0rc1/files/nmt_ru_en_transformer6x6.nemo\n",
              " ), PretrainedModelInfo(\n",
              " \tpretrained_model_name=nmt_zh_en_transformer6x6,\n",
              " \tdescription=Zh->En translation model. See details here: https://ngc.nvidia.com/catalog/models/nvidia:nemo:nmt_zh_en_transformer6x6,\n",
              " \tlocation=https://api.ngc.nvidia.com/v2/models/nvidia/nemo/nmt_zh_en_transformer6x6/versions/1.0.0rc1/files/nmt_zh_en_transformer6x6.nemo\n",
              " ), PretrainedModelInfo(\n",
              " \tpretrained_model_name=nmt_en_zh_transformer6x6,\n",
              " \tdescription=En->Zh translation model. See details here: https://ngc.nvidia.com/catalog/models/nvidia:nemo:nmt_en_zh_transformer6x6,\n",
              " \tlocation=https://api.ngc.nvidia.com/v2/models/nvidia/nemo/nmt_en_zh_transformer6x6/versions/1.0.0rc1/files/nmt_en_zh_transformer6x6.nemo\n",
              " ), PretrainedModelInfo(\n",
              " \tpretrained_model_name=nmt_hi_en_transformer12x2,\n",
              " \tdescription=Hi->En translation model. See details here: https://ngc.nvidia.com/catalog/models/nvidia:nemo:nmt_hi_en_transformer12x2,\n",
              " \tlocation=https://api.ngc.nvidia.com/v2/models/nvidia/nemo/nmt_hi_en_transformer12x2/versions/v1.0.0/files/nmt_hi_en_transformer12x2.nemo\n",
              " ), PretrainedModelInfo(\n",
              " \tpretrained_model_name=nmt_en_hi_transformer12x2,\n",
              " \tdescription=En->Hi translation model. See details here: https://ngc.nvidia.com/catalog/models/nvidia:nemo:nmt_en_hi_transformer12x2,\n",
              " \tlocation=https://api.ngc.nvidia.com/v2/models/nvidia/nemo/nmt_en_hi_transformer12x2/versions/v1.0.0/files/nmt_en_hi_transformer12x2.nemo\n",
              " ), PretrainedModelInfo(\n",
              " \tpretrained_model_name=mnmt_deesfr_en_transformer12x2,\n",
              " \tdescription=De/Es/Fr->En multilingual many-one translation model. The model has 12 encoder and 2 decoder layers with hidden dim 1,024. See details here: https://ngc.nvidia.com/catalog/models/nvidia:nemo:mnmt_deesfr_en_transformer12x2,\n",
              " \tlocation=https://api.ngc.nvidia.com/v2/models/nvidia/nemo/mnmt_deesfr_en_transformer12x2/versions/1.2.0/files/mnmt_deesfr_en_transformer12x2.nemo\n",
              " ), PretrainedModelInfo(\n",
              " \tpretrained_model_name=mnmt_deesfr_en_transformer24x6,\n",
              " \tdescription=De/Es/Fr->En multilingual many-one translation model. The model has 24 encoder and 6 decoder layers with hidden dim 1,024. See details here: https://ngc.nvidia.com/catalog/models/nvidia:nemo:mnmt_deesfr_en_transformer24x6,\n",
              " \tlocation=https://api.ngc.nvidia.com/v2/models/nvidia/nemo/mnmt_deesfr_en_transformer24x6/versions/1.2.0/files/mnmt_deesfr_en_transformer24x6.nemo\n",
              " ), PretrainedModelInfo(\n",
              " \tpretrained_model_name=mnmt_deesfr_en_transformer6x6,\n",
              " \tdescription=De/Es/Fr->En multilingual many-one translation model. The model has 6 encoder and 6 decoder layers with hidden dim 1,024. See details here: https://ngc.nvidia.com/catalog/models/nvidia:nemo:mnmt_deesfr_en_transformer6x6,\n",
              " \tlocation=https://api.ngc.nvidia.com/v2/models/nvidia/nemo/mnmt_deesfr_en_transformer6x6/versions/1.2.0/files/mnmt_deesfr_en_transformer6x6.nemo\n",
              " ), PretrainedModelInfo(\n",
              " \tpretrained_model_name=mnmt_en_deesfr_transformer12x2,\n",
              " \tdescription=En->De/Es/Fr multilingual one-many translation model. The model has 12 encoder and 2 decoder layers with hidden dim 1,024. See details here: https://ngc.nvidia.com/catalog/models/nvidia:nemo:mnmt_en_deesfr_transformer12x2,\n",
              " \tlocation=https://api.ngc.nvidia.com/v2/models/nvidia/nemo/mnmt_en_deesfr_transformer12x2/versions/1.2.0/files/mnmt_en_deesfr_transformer12x2.nemo\n",
              " ), PretrainedModelInfo(\n",
              " \tpretrained_model_name=mnmt_en_deesfr_transformer24x6,\n",
              " \tdescription=En->De/Es/Fr multilingual one-many translation model. The model has 24 encoder and 6 decoder layers with hidden dim 1,024. See details here: https://ngc.nvidia.com/catalog/models/nvidia:nemo:mnmt_en_deesfr_transformer24x6,\n",
              " \tlocation=https://api.ngc.nvidia.com/v2/models/nvidia/nemo/mnmt_en_deesfr_transformer24x6/versions/1.2.0/files/mnmt_en_deesfr_transformer24x6.nemo\n",
              " ), PretrainedModelInfo(\n",
              " \tpretrained_model_name=mnmt_en_deesfr_transformer6x6,\n",
              " \tdescription=En->De/Es/Fr multilingual one-many translation model. The model has 6 encoder and 6 decoder layers with hidden dim 1,024. See details here: https://ngc.nvidia.com/catalog/models/nvidia:nemo:mnmt_en_deesfr_transformer6x6,\n",
              " \tlocation=https://api.ngc.nvidia.com/v2/models/nvidia/nemo/mnmt_en_deesfr_transformer6x6/versions/1.2.0/files/mnmt_en_deesfr_transformer6x6.nemo\n",
              " ), PretrainedModelInfo(\n",
              " \tpretrained_model_name=mnmt_en_deesfr_transformerbase,\n",
              " \tdescription=En->De/Es/Fr multilingual one-many translation model. The model has 6 encoder and 6 decoder layers with hidden dim 512. See details here: https://ngc.nvidia.com/catalog/models/nvidia:nemo:mnmt_en_deesfr_transformerbase,\n",
              " \tlocation=https://api.ngc.nvidia.com/v2/models/nvidia/nemo/mnmt_en_deesfr_transformerbase/versions/1.2.0/files/mnmt_en_deesfr_transformerbase.nemo\n",
              " ), PretrainedModelInfo(\n",
              " \tpretrained_model_name=nmt_en_de_transformer24x6,\n",
              " \tdescription=En->De translation model. See details here: https://ngc.nvidia.com/catalog/models/nvidia:nemo:nmt_en_de_transformer24x6,\n",
              " \tlocation=https://api.ngc.nvidia.com/v2/models/nvidia/nemo/nmt_en_de_transformer24x6/versions/1.5/files/en_de_24x6.nemo\n",
              " ), PretrainedModelInfo(\n",
              " \tpretrained_model_name=nmt_de_en_transformer24x6,\n",
              " \tdescription=De->En translation model. See details here: https://ngc.nvidia.com/catalog/models/nvidia:nemo:nmt_de_en_transformer24x6,\n",
              " \tlocation=https://api.ngc.nvidia.com/v2/models/nvidia/nemo/nmt_de_en_transformer24x6/versions/1.5/files/de_en_24x6.nemo\n",
              " ), PretrainedModelInfo(\n",
              " \tpretrained_model_name=nmt_en_es_transformer24x6,\n",
              " \tdescription=En->Es translation model. See details here: https://ngc.nvidia.com/catalog/models/nvidia:nemo:nmt_en_es_transformer24x6,\n",
              " \tlocation=https://api.ngc.nvidia.com/v2/models/nvidia/nemo/nmt_en_es_transformer24x6/versions/1.5/files/en_es_24x6.nemo\n",
              " ), PretrainedModelInfo(\n",
              " \tpretrained_model_name=nmt_es_en_transformer24x6,\n",
              " \tdescription=Es->En translation model. See details here: https://ngc.nvidia.com/catalog/models/nvidia:nemo:nmt_es_en_transformer24x6,\n",
              " \tlocation=https://api.ngc.nvidia.com/v2/models/nvidia/nemo/nmt_es_en_transformer24x6/versions/1.5/files/es_en_24x6.nemo\n",
              " ), PretrainedModelInfo(\n",
              " \tpretrained_model_name=nmt_en_fr_transformer24x6,\n",
              " \tdescription=En->Fr translation model. See details here: https://ngc.nvidia.com/catalog/models/nvidia:nemo:nmt_en_fr_transformer24x6,\n",
              " \tlocation=https://api.ngc.nvidia.com/v2/models/nvidia/nemo/nmt_en_fr_transformer24x6/versions/1.5/files/en_fr_24x6.nemo\n",
              " ), PretrainedModelInfo(\n",
              " \tpretrained_model_name=nmt_fr_en_transformer24x6,\n",
              " \tdescription=Fr->En translation model. See details here: https://ngc.nvidia.com/catalog/models/nvidia:nemo:nmt_fr_en_transformer24x6,\n",
              " \tlocation=https://api.ngc.nvidia.com/v2/models/nvidia/nemo/nmt_fr_en_transformer24x6/versions/1.5/files/fr_en_24x6.nemo\n",
              " ), PretrainedModelInfo(\n",
              " \tpretrained_model_name=nmt_en_ru_transformer24x6,\n",
              " \tdescription=En->Ru translation model. See details here: https://ngc.nvidia.com/catalog/models/nvidia:nemo:nmt_en_ru_transformer24x6,\n",
              " \tlocation=https://api.ngc.nvidia.com/v2/models/nvidia/nemo/nmt_en_ru_transformer24x6/versions/1.5/files/en_ru_24x6.nemo\n",
              " ), PretrainedModelInfo(\n",
              " \tpretrained_model_name=nmt_ru_en_transformer24x6,\n",
              " \tdescription=Ru->En translation model. See details here: https://ngc.nvidia.com/catalog/models/nvidia:nemo:nmt_ru_en_transformer24x6,\n",
              " \tlocation=https://api.ngc.nvidia.com/v2/models/nvidia/nemo/nmt_ru_en_transformer24x6/versions/1.5/files/ru_en_24x6.nemo\n",
              " ), PretrainedModelInfo(\n",
              " \tpretrained_model_name=nmt_en_zh_transformer24x6,\n",
              " \tdescription=En->Zh translation model. See details here: https://ngc.nvidia.com/catalog/models/nvidia:nemo:nmt_en_zh_transformer24x6,\n",
              " \tlocation=https://api.ngc.nvidia.com/v2/models/nvidia/nemo/nmt_en_zh_transformer24x6/versions/1.5/files/en_zh_24x6.nemo\n",
              " ), PretrainedModelInfo(\n",
              " \tpretrained_model_name=nmt_zh_en_transformer24x6,\n",
              " \tdescription=Zh->En translation model. See details here: https://ngc.nvidia.com/catalog/models/nvidia:nemo:nmt_zh_en_transformer24x6,\n",
              " \tlocation=https://api.ngc.nvidia.com/v2/models/nvidia/nemo/nmt_zh_en_transformer24x6/versions/1.5/files/zh_en_24x6.nemo\n",
              " )]"
            ]
          },
          "metadata": {},
          "execution_count": 4
        }
      ],
      "source": [
        "nemo_nlp.models.MTEncDecModel.list_available_models()"
      ]
    },
    {
      "cell_type": "code",
      "execution_count": 5,
      "metadata": {
        "colab": {
          "base_uri": "https://localhost:8080/"
        },
        "id": "1h9nhICjA5Dk",
        "outputId": "ff20bbeb-9881-47e2-df12-f9b8841b7cdc",
        "scrolled": true
      },
      "outputs": [
        {
          "output_type": "stream",
          "name": "stdout",
          "text": [
            "[NeMo I 2021-12-09 13:29:21 cloud:56] Found existing object /root/.cache/torch/NeMo/NeMo_1.5.0/stt_fr_quartznet15x5/ad2ff3fc7d157ba778d3551caec449cc/stt_fr_quartznet15x5.nemo.\n",
            "[NeMo I 2021-12-09 13:29:21 cloud:62] Re-using file from: /root/.cache/torch/NeMo/NeMo_1.5.0/stt_fr_quartznet15x5/ad2ff3fc7d157ba778d3551caec449cc/stt_fr_quartznet15x5.nemo\n",
            "[NeMo I 2021-12-09 13:29:21 common:728] Instantiating model from pre-trained checkpoint\n"
          ]
        },
        {
          "output_type": "stream",
          "name": "stderr",
          "text": [
            "[NeMo W 2021-12-09 13:29:23 modelPT:131] If you intend to do training or fine-tuning, please call the ModelPT.setup_training_data() method and provide a valid configuration file to setup the train data loader.\n",
            "    Train config : \n",
            "    manifest_filepath: /raid/noneval.json\n",
            "    sample_rate: 16000\n",
            "    labels:\n",
            "    - ' '\n",
            "    - a\n",
            "    - b\n",
            "    - c\n",
            "    - d\n",
            "    - e\n",
            "    - f\n",
            "    - g\n",
            "    - h\n",
            "    - i\n",
            "    - j\n",
            "    - k\n",
            "    - l\n",
            "    - m\n",
            "    - 'n'\n",
            "    - o\n",
            "    - p\n",
            "    - q\n",
            "    - r\n",
            "    - s\n",
            "    - t\n",
            "    - u\n",
            "    - v\n",
            "    - w\n",
            "    - x\n",
            "    - 'y'\n",
            "    - z\n",
            "    - ''''\n",
            "    - ç\n",
            "    - é\n",
            "    - â\n",
            "    - ê\n",
            "    - î\n",
            "    - ô\n",
            "    - û\n",
            "    - à\n",
            "    - è\n",
            "    - ù\n",
            "    - ë\n",
            "    - ï\n",
            "    - ü\n",
            "    - ÿ\n",
            "    batch_size: 32\n",
            "    trim_silence: true\n",
            "    max_duration: 16.7\n",
            "    shuffle: true\n",
            "    is_tarred: false\n",
            "    tarred_audio_filepaths: null\n",
            "    num_workers: 8\n",
            "    pin_memory: true\n",
            "    \n",
            "[NeMo W 2021-12-09 13:29:23 modelPT:138] If you intend to do validation, please call the ModelPT.setup_validation_data() or ModelPT.setup_multiple_validation_data() method and provide a valid configuration file to setup the validation data loader(s). \n",
            "    Validation config : \n",
            "    manifest_filepath: /raid/dev.json\n",
            "    sample_rate: 16000\n",
            "    labels:\n",
            "    - ' '\n",
            "    - a\n",
            "    - b\n",
            "    - c\n",
            "    - d\n",
            "    - e\n",
            "    - f\n",
            "    - g\n",
            "    - h\n",
            "    - i\n",
            "    - j\n",
            "    - k\n",
            "    - l\n",
            "    - m\n",
            "    - 'n'\n",
            "    - o\n",
            "    - p\n",
            "    - q\n",
            "    - r\n",
            "    - s\n",
            "    - t\n",
            "    - u\n",
            "    - v\n",
            "    - w\n",
            "    - x\n",
            "    - 'y'\n",
            "    - z\n",
            "    - ''''\n",
            "    - ç\n",
            "    - é\n",
            "    - â\n",
            "    - ê\n",
            "    - î\n",
            "    - ô\n",
            "    - û\n",
            "    - à\n",
            "    - è\n",
            "    - ù\n",
            "    - ë\n",
            "    - ï\n",
            "    - ü\n",
            "    - ÿ\n",
            "    batch_size: 32\n",
            "    shuffle: false\n",
            "    num_workers: 8\n",
            "    pin_memory: true\n",
            "    \n"
          ]
        },
        {
          "output_type": "stream",
          "name": "stdout",
          "text": [
            "[NeMo I 2021-12-09 13:29:23 features:265] PADDING: 16\n",
            "[NeMo I 2021-12-09 13:29:23 features:282] STFT using torch\n",
            "[NeMo I 2021-12-09 13:29:27 save_restore_connector:149] Model EncDecCTCModel was successfully restored from /root/.cache/torch/NeMo/NeMo_1.5.0/stt_fr_quartznet15x5/ad2ff3fc7d157ba778d3551caec449cc/stt_fr_quartznet15x5.nemo.\n",
            "[NeMo I 2021-12-09 13:29:27 cloud:56] Found existing object /root/.cache/torch/NeMo/NeMo_1.5.0/nmt_fr_en_transformer12x2/1dfad547569f2b42d9fccc6d7962f88a/nmt_fr_en_transformer12x2.nemo.\n",
            "[NeMo I 2021-12-09 13:29:27 cloud:62] Re-using file from: /root/.cache/torch/NeMo/NeMo_1.5.0/nmt_fr_en_transformer12x2/1dfad547569f2b42d9fccc6d7962f88a/nmt_fr_en_transformer12x2.nemo\n",
            "[NeMo I 2021-12-09 13:29:27 common:728] Instantiating model from pre-trained checkpoint\n",
            "[NeMo I 2021-12-09 13:29:39 tokenizer_utils:163] Getting YouTokenToMeTokenizer with model: /tmp/tmpj5fjwyxa/tokenizer.75.32000.BPE.model with r2l: False.\n",
            "[NeMo I 2021-12-09 13:29:39 tokenizer_utils:163] Getting YouTokenToMeTokenizer with model: /tmp/tmpj5fjwyxa/tokenizer.75.32000.BPE.model with r2l: False.\n"
          ]
        },
        {
          "output_type": "stream",
          "name": "stderr",
          "text": [
            "[NeMo W 2021-12-09 13:29:39 modelPT:131] If you intend to do training or fine-tuning, please call the ModelPT.setup_training_data() method and provide a valid configuration file to setup the train data loader.\n",
            "    Train config : \n",
            "    src_file_name: /raid/batches.tokens.75.16000.pkl\n",
            "    tgt_file_name: /raid/batches.tokens.75.16000.pkl\n",
            "    tokens_in_batch: 16000\n",
            "    clean: true\n",
            "    max_seq_length: 512\n",
            "    cache_ids: false\n",
            "    cache_data_per_node: false\n",
            "    use_cache: false\n",
            "    shuffle: true\n",
            "    num_samples: -1\n",
            "    drop_last: false\n",
            "    pin_memory: false\n",
            "    num_workers: 8\n",
            "    load_from_cached_dataset: true\n",
            "    reverse_lang_direction: true\n",
            "    load_from_tarred_dataset: false\n",
            "    metadata_path: null\n",
            "    tar_shuffle_n: 100\n",
            "    \n",
            "[NeMo W 2021-12-09 13:29:39 modelPT:138] If you intend to do validation, please call the ModelPT.setup_validation_data() or ModelPT.setup_multiple_validation_data() method and provide a valid configuration file to setup the validation data loader(s). \n",
            "    Validation config : \n",
            "    src_file_name: /raid/newstest2013-fr-en.clean.tok.src\n",
            "    tgt_file_name: /raid/newstest2013-fr-en.clean.tok.ref\n",
            "    tokens_in_batch: 512\n",
            "    clean: false\n",
            "    max_seq_length: 512\n",
            "    cache_ids: false\n",
            "    cache_data_per_node: false\n",
            "    use_cache: false\n",
            "    shuffle: false\n",
            "    num_samples: -1\n",
            "    drop_last: false\n",
            "    pin_memory: false\n",
            "    num_workers: 8\n",
            "    load_from_cached_dataset: false\n",
            "    reverse_lang_direction: false\n",
            "    load_from_tarred_dataset: false\n",
            "    metadata_path: null\n",
            "    tar_shuffle_n: 100\n",
            "    \n",
            "[NeMo W 2021-12-09 13:29:39 modelPT:144] Please call the ModelPT.setup_test_data() or ModelPT.setup_multiple_test_data() method and provide a valid configuration file to setup the test data loader(s).\n",
            "    Test config : \n",
            "    src_file_name: /raid/newstest2014-fr-en.clean.tok.src\n",
            "    tgt_file_name: /raid/newstest2014-fr-en.clean.tok.ref\n",
            "    tokens_in_batch: 512\n",
            "    clean: false\n",
            "    max_seq_length: 512\n",
            "    cache_ids: false\n",
            "    cache_data_per_node: false\n",
            "    use_cache: false\n",
            "    shuffle: false\n",
            "    num_samples: -1\n",
            "    drop_last: false\n",
            "    pin_memory: false\n",
            "    num_workers: 8\n",
            "    load_from_cached_dataset: false\n",
            "    reverse_lang_direction: false\n",
            "    load_from_tarred_dataset: false\n",
            "    metadata_path: null\n",
            "    tar_shuffle_n: 100\n",
            "    \n",
            "[NeMo W 2021-12-09 13:29:39 nlp_overrides:174] Apex was not found. Using model parallel or megatron models will error out.\n",
            "[NeMo W 2021-12-09 13:29:39 modelPT:1079] World size can only be set by PyTorch Lightning Trainer.\n",
            "[NeMo W 2021-12-09 13:29:39 nlp_model:63] Apex was not found. Using model parallel or megatron models will error out.\n"
          ]
        },
        {
          "output_type": "stream",
          "name": "stdout",
          "text": [
            "[NeMo I 2021-12-09 13:29:45 save_restore_connector:149] Model MTEncDecModel was successfully restored from /root/.cache/torch/NeMo/NeMo_1.5.0/nmt_fr_en_transformer12x2/1dfad547569f2b42d9fccc6d7962f88a/nmt_fr_en_transformer12x2.nemo.\n",
            "[NeMo I 2021-12-09 13:29:45 cloud:56] Found existing object /root/.cache/torch/NeMo/NeMo_1.5.0/tts_en_fastpitch_align/b50e16c5d695b00855ae53d6ba4e4f7f/tts_en_fastpitch_align.nemo.\n",
            "[NeMo I 2021-12-09 13:29:45 cloud:62] Re-using file from: /root/.cache/torch/NeMo/NeMo_1.5.0/tts_en_fastpitch_align/b50e16c5d695b00855ae53d6ba4e4f7f/tts_en_fastpitch_align.nemo\n",
            "[NeMo I 2021-12-09 13:29:45 common:728] Instantiating model from pre-trained checkpoint\n"
          ]
        },
        {
          "output_type": "stream",
          "name": "stderr",
          "text": [
            "[NeMo W 2021-12-09 13:29:47 modelPT:131] If you intend to do training or fine-tuning, please call the ModelPT.setup_training_data() method and provide a valid configuration file to setup the train data loader.\n",
            "    Train config : \n",
            "    dataset:\n",
            "      _target_: nemo.collections.asr.data.audio_to_text.AudioToCharWithPriorAndPitchDataset\n",
            "      manifest_filepath: /raid/LJSpeech/nvidia_ljspeech_train.json\n",
            "      max_duration: null\n",
            "      min_duration: 0.1\n",
            "      int_values: false\n",
            "      normalize: true\n",
            "      sample_rate: 22050\n",
            "      trim: false\n",
            "      sup_data_path: /raid/LJSpeech/prior\n",
            "      n_window_stride: 256\n",
            "      n_window_size: 1024\n",
            "      pitch_fmin: 80\n",
            "      pitch_fmax: 640\n",
            "      pitch_avg: 211.27540199742586\n",
            "      pitch_std: 52.1851002822779\n",
            "      vocab:\n",
            "        notation: phonemes\n",
            "        punct: true\n",
            "        spaces: true\n",
            "        stresses: true\n",
            "        add_blank_at: None\n",
            "        pad_with_space: true\n",
            "        chars: true\n",
            "        improved_version_g2p: true\n",
            "    dataloader_params:\n",
            "      drop_last: false\n",
            "      shuffle: true\n",
            "      batch_size: 32\n",
            "      num_workers: 12\n",
            "    \n",
            "[NeMo W 2021-12-09 13:29:47 modelPT:138] If you intend to do validation, please call the ModelPT.setup_validation_data() or ModelPT.setup_multiple_validation_data() method and provide a valid configuration file to setup the validation data loader(s). \n",
            "    Validation config : \n",
            "    dataset:\n",
            "      _target_: nemo.collections.asr.data.audio_to_text.AudioToCharWithPriorAndPitchDataset\n",
            "      manifest_filepath: /raid/LJSpeech/nvidia_ljspeech_val.json\n",
            "      max_duration: null\n",
            "      min_duration: null\n",
            "      int_values: false\n",
            "      normalize: true\n",
            "      sample_rate: 22050\n",
            "      trim: false\n",
            "      sup_data_path: /raid/LJSpeech/prior\n",
            "      n_window_stride: 256\n",
            "      n_window_size: 1024\n",
            "      pitch_fmin: 80\n",
            "      pitch_fmax: 640\n",
            "      pitch_avg: 211.27540199742586\n",
            "      pitch_std: 52.1851002822779\n",
            "      vocab:\n",
            "        notation: phonemes\n",
            "        punct: true\n",
            "        spaces: true\n",
            "        stresses: true\n",
            "        add_blank_at: None\n",
            "        pad_with_space: true\n",
            "        chars: true\n",
            "        improved_version_g2p: true\n",
            "    dataloader_params:\n",
            "      drop_last: false\n",
            "      shuffle: false\n",
            "      batch_size: 32\n",
            "      num_workers: 8\n",
            "    \n",
            "[NeMo E 2021-12-09 13:29:47 vocabs:324] Torch distributed needs to be initialized before you initialized <nemo.collections.asr.data.vocabs.Phonemes object at 0x7fd9110523d0>. This class is prone to data access race conditions. Now downloading corpora from global rank 0. If other ranks pass this before rank 0, errors might result.\n"
          ]
        },
        {
          "output_type": "stream",
          "name": "stdout",
          "text": [
            "[nltk_data] Downloading package averaged_perceptron_tagger to\n",
            "[nltk_data]     /root/nltk_data...\n",
            "[nltk_data]   Package averaged_perceptron_tagger is already up-to-\n",
            "[nltk_data]       date!\n",
            "[nltk_data] Downloading package cmudict to /root/nltk_data...\n",
            "[nltk_data]   Package cmudict is already up-to-date!\n",
            "[NeMo I 2021-12-09 13:29:50 features:265] PADDING: 1\n",
            "[NeMo I 2021-12-09 13:29:50 features:282] STFT using torch\n",
            "[NeMo I 2021-12-09 13:29:50 save_restore_connector:149] Model FastPitchModel was successfully restored from /root/.cache/torch/NeMo/NeMo_1.5.0/tts_en_fastpitch_align/b50e16c5d695b00855ae53d6ba4e4f7f/tts_en_fastpitch_align.nemo.\n",
            "[NeMo I 2021-12-09 13:29:50 cloud:56] Found existing object /root/.cache/torch/NeMo/NeMo_1.5.0/tts_hifigan/e6da322f0f7e7dcf3f1900a9229a7e69/tts_hifigan.nemo.\n",
            "[NeMo I 2021-12-09 13:29:50 cloud:62] Re-using file from: /root/.cache/torch/NeMo/NeMo_1.5.0/tts_hifigan/e6da322f0f7e7dcf3f1900a9229a7e69/tts_hifigan.nemo\n",
            "[NeMo I 2021-12-09 13:29:50 common:728] Instantiating model from pre-trained checkpoint\n"
          ]
        },
        {
          "output_type": "stream",
          "name": "stderr",
          "text": [
            "[NeMo W 2021-12-09 13:29:54 modelPT:131] If you intend to do training or fine-tuning, please call the ModelPT.setup_training_data() method and provide a valid configuration file to setup the train data loader.\n",
            "    Train config : \n",
            "    dataset:\n",
            "      _target_: nemo.collections.tts.data.datalayers.MelAudioDataset\n",
            "      manifest_filepath: /home/fkreuk/data/train_finetune.txt\n",
            "      min_duration: 0.75\n",
            "      n_segments: 8192\n",
            "    dataloader_params:\n",
            "      drop_last: false\n",
            "      shuffle: true\n",
            "      batch_size: 64\n",
            "      num_workers: 4\n",
            "    \n",
            "[NeMo W 2021-12-09 13:29:54 modelPT:138] If you intend to do validation, please call the ModelPT.setup_validation_data() or ModelPT.setup_multiple_validation_data() method and provide a valid configuration file to setup the validation data loader(s). \n",
            "    Validation config : \n",
            "    dataset:\n",
            "      _target_: nemo.collections.tts.data.datalayers.MelAudioDataset\n",
            "      manifest_filepath: /home/fkreuk/data/val_finetune.txt\n",
            "      min_duration: 3\n",
            "      n_segments: 66150\n",
            "    dataloader_params:\n",
            "      drop_last: false\n",
            "      shuffle: false\n",
            "      batch_size: 5\n",
            "      num_workers: 4\n",
            "    \n",
            "[NeMo W 2021-12-09 13:29:54 features:243] Using torch_stft is deprecated and will be removed in 1.1.0. Please set stft_conv and stft_exact_pad to False for FilterbankFeatures and AudioToMelSpectrogramPreprocessor. Please set exact_pad to True as needed.\n"
          ]
        },
        {
          "output_type": "stream",
          "name": "stdout",
          "text": [
            "[NeMo I 2021-12-09 13:29:54 features:265] PADDING: 0\n",
            "[NeMo I 2021-12-09 13:29:54 features:282] STFT using torch\n"
          ]
        },
        {
          "output_type": "stream",
          "name": "stderr",
          "text": [
            "[NeMo W 2021-12-09 13:29:54 features:243] Using torch_stft is deprecated and will be removed in 1.1.0. Please set stft_conv and stft_exact_pad to False for FilterbankFeatures and AudioToMelSpectrogramPreprocessor. Please set exact_pad to True as needed.\n"
          ]
        },
        {
          "output_type": "stream",
          "name": "stdout",
          "text": [
            "[NeMo I 2021-12-09 13:29:54 features:265] PADDING: 0\n",
            "[NeMo I 2021-12-09 13:29:54 features:282] STFT using torch\n",
            "[NeMo I 2021-12-09 13:29:56 save_restore_connector:149] Model HifiGanModel was successfully restored from /root/.cache/torch/NeMo/NeMo_1.5.0/tts_hifigan/e6da322f0f7e7dcf3f1900a9229a7e69/tts_hifigan.nemo.\n"
          ]
        }
      ],
      "source": [
        "# Speech Recognition model - Citrinet initially trained on Multilingual LibriSpeech English corpus, and fine-tuned on the open source Aishell-2\n",
        "asr_model = nemo_asr.models.EncDecCTCModel.from_pretrained(model_name=\"stt_fr_quartznet15x5\").cuda()\n",
        "# Neural Machine Translation model\n",
        "nmt_model = nemo_nlp.models.MTEncDecModel.from_pretrained(model_name='nmt_fr_en_transformer12x2').cuda()\n",
        "# Spectrogram generator which takes text as an input and produces spectrogram\n",
        "spectrogram_generator = nemo_tts.models.FastPitchModel.from_pretrained(model_name=\"tts_en_fastpitch\").cuda()\n",
        "# Vocoder model which takes spectrogram and produces actual audio\n",
        "vocoder = nemo_tts.models.HifiGanModel.from_pretrained(model_name=\"tts_hifigan\").cuda()"
      ]
    },
    {
      "cell_type": "markdown",
      "metadata": {
        "id": "KPota-JtsqSY"
      },
      "source": [
        "## Get an audio sample in French\n"
      ]
    },
    {
      "cell_type": "code",
      "source": [
        "audio_samples = [str(f) for f in Path(\"nvidia_nemo_wandb/audio_samples\").iterdir()]"
      ],
      "metadata": {
        "id": "PRHo7d8FWrn0"
      },
      "execution_count": 6,
      "outputs": []
    },
    {
      "cell_type": "code",
      "execution_count": 7,
      "metadata": {
        "colab": {
          "base_uri": "https://localhost:8080/",
          "height": 52
        },
        "id": "sJKZjsdrgQre",
        "outputId": "87afb791-d07a-4a2a-8cf0-9e8a0dc1a028"
      },
      "outputs": [
        {
          "output_type": "execute_result",
          "data": {
            "text/html": [
              "\n",
              "                <audio controls=\"controls\" >\n",
              "                    <source src=\"data:audio/mpeg;base64,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\" type=\"audio/mpeg\" />\n",
              "                    Your browser does not support the audio element.\n",
              "                </audio>\n",
              "              "
            ],
            "text/plain": [
              "<IPython.lib.display.Audio object>"
            ]
          },
          "metadata": {},
          "execution_count": 7
        }
      ],
      "source": [
        "IPython.display.Audio(audio_samples[0])"
      ]
    },
    {
      "cell_type": "markdown",
      "metadata": {
        "id": "BaCdNJhhtBfM"
      },
      "source": [
        "## Transcribe audio file\n",
        "We will use speech recognition model to convert audio into text.\n"
      ]
    },
    {
      "cell_type": "code",
      "execution_count": 8,
      "metadata": {
        "colab": {
          "base_uri": "https://localhost:8080/",
          "height": 171,
          "referenced_widgets": [
            "2bed44e253a94a12acddd9c88b24a24d",
            "312a2ccd0add4308a634bdf9e4a4045c",
            "f35f9b5972344ae7b69b0d51bf6f332b",
            "babba5c21ca14e2c902719aac708539a",
            "3d7584066b2446e49834198dcf183150",
            "e59f99a3f68447719d6e3563ca460eba",
            "d2207e75876b4baebb400ef7f2a7d7fd",
            "923a3330580c47a597cb5754b743321e",
            "86c05288c9304f8bbe88d1aba560a9b6",
            "00bdf68a696949e3afb988a29a166f94",
            "a770f6315ec846ae9aa25697dfed283b"
          ]
        },
        "id": "KTA7jM6sL6yC",
        "outputId": "28254f9a-ded4-4edf-d2fe-246b13d28a31"
      },
      "outputs": [
        {
          "output_type": "display_data",
          "data": {
            "application/vnd.jupyter.widget-view+json": {
              "model_id": "2bed44e253a94a12acddd9c88b24a24d",
              "version_minor": 0,
              "version_major": 2
            },
            "text/plain": [
              "Transcribing:   0%|          | 0/2 [00:00<?, ?it/s]"
            ]
          },
          "metadata": {}
        },
        {
          "output_type": "stream",
          "name": "stderr",
          "text": [
            "[NeMo W 2021-12-09 13:29:59 patch_utils:50] torch.stft() signature has been updated for PyTorch 1.7+\n",
            "    Please update PyTorch to remain compatible with later versions of NeMo.\n",
            "[NeMo W 2021-12-09 13:29:59 nemo_logging:349] /usr/local/lib/python3.7/dist-packages/nemo/collections/asr/parts/submodules/jasper.py:280: UserWarning: __floordiv__ is deprecated, and its behavior will change in a future version of pytorch. It currently rounds toward 0 (like the 'trunc' function NOT 'floor'). This results in incorrect rounding for negative values. To keep the current behavior, use torch.div(a, b, rounding_mode='trunc'), or for actual floor division, use torch.div(a, b, rounding_mode='floor').\n",
            "      ) // self.conv.stride[0] + 1\n",
            "    \n"
          ]
        },
        {
          "output_type": "stream",
          "name": "stdout",
          "text": [
            "['on est vraiment très content de vouvoir collaborer avec vous', 'je préfère vraiment les huîtres aux coquis saint jacques', \"quand il fait chaud e préfère un bon chardonné plutôt qu'une bière\", \"bonjour je suis très content d'ête là\", \"l'intelligence artificielle va conquérir le mond\"]\n"
          ]
        }
      ],
      "source": [
        "transcribed_text = asr_model.transcribe(audio_samples)\n",
        "print(transcribed_text)"
      ]
    },
    {
      "cell_type": "markdown",
      "metadata": {
        "id": "BjYb2TMtttCc"
      },
      "source": [
        "## Translate French text into English\n",
        "NeMo's NMT models have a handy ``.translate()`` method."
      ]
    },
    {
      "cell_type": "code",
      "execution_count": 9,
      "metadata": {
        "colab": {
          "base_uri": "https://localhost:8080/"
        },
        "id": "kQTdE4b9Nm9O",
        "outputId": "999ee10a-b579-4897-d466-24d1ee517cc9"
      },
      "outputs": [
        {
          "output_type": "stream",
          "name": "stderr",
          "text": [
            "[NeMo W 2021-12-09 13:30:00 nemo_logging:349] /usr/local/lib/python3.7/dist-packages/nemo/collections/nlp/modules/common/transformer/transformer_generators.py:363: UserWarning: __floordiv__ is deprecated, and its behavior will change in a future version of pytorch. It currently rounds toward 0 (like the 'trunc' function NOT 'floor'). This results in incorrect rounding for negative values. To keep the current behavior, use torch.div(a, b, rounding_mode='trunc'), or for actual floor division, use torch.div(a, b, rounding_mode='floor').\n",
            "      mems_ids = indices_i.unsqueeze(2).unsqueeze(3).repeat(1, 1, p_len - 1, hidden_size) // self.beam_size\n",
            "    \n"
          ]
        },
        {
          "output_type": "stream",
          "name": "stdout",
          "text": [
            "['we are really very happy to work with you', 'I really prefer oysters to scallops', 'when it is hot e prefers a good thistle rather than a beer', 'hello I am very happy to be there', 'artificial intelligence will conquer the world']\n"
          ]
        }
      ],
      "source": [
        "english_text = nmt_model.translate(transcribed_text)\n",
        "print(english_text)"
      ]
    },
    {
      "cell_type": "markdown",
      "metadata": {
        "id": "9Rppc59Ut7uy"
      },
      "source": [
        "## Generate English audio from text\n",
        "Speech generation from text typically has two steps:\n",
        "* Generate spectrogram from the text. In this example we will use FastPitch model for this.\n",
        "* Generate actual audio from the spectrogram. In this example we will use HifiGan model for this.\n"
      ]
    },
    {
      "cell_type": "code",
      "execution_count": 10,
      "metadata": {
        "id": "wpMYfufgNt15"
      },
      "outputs": [],
      "source": [
        "# A helper function which combines FastPitch and HifiGan to go directly from \n",
        "# text to audio\n",
        "def text_to_audio(text):\n",
        "  parsed = spectrogram_generator.parse(text)\n",
        "  spectrogram = spectrogram_generator.generate_spectrogram(tokens=parsed)\n",
        "  audio = vocoder.convert_spectrogram_to_audio(spec=spectrogram)\n",
        "  return audio.squeeze().to('cpu').detach().numpy()"
      ]
    },
    {
      "cell_type": "code",
      "execution_count": 11,
      "metadata": {
        "colab": {
          "base_uri": "https://localhost:8080/",
          "height": 89
        },
        "id": "Q9nOG8L1YyAF",
        "outputId": "c33b988d-3e05-44d8-ccb3-b8b1784b8305"
      },
      "outputs": [
        {
          "output_type": "stream",
          "name": "stderr",
          "text": [
            "[NeMo E 2021-12-09 13:30:05 vocabs:324] Torch distributed needs to be initialized before you initialized <nemo.collections.asr.data.vocabs.Phonemes object at 0x7fd8f8feacd0>. This class is prone to data access race conditions. Now downloading corpora from global rank 0. If other ranks pass this before rank 0, errors might result.\n"
          ]
        },
        {
          "output_type": "execute_result",
          "data": {
            "text/html": [
              "\n",
              "                <audio controls=\"controls\" >\n",
              "                    <source src=\"data:audio/wav;base64,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\" type=\"audio/wav\" />\n",
              "                    Your browser does not support the audio element.\n",
              "                </audio>\n",
              "              "
            ],
            "text/plain": [
              "<IPython.lib.display.Audio object>"
            ]
          },
          "metadata": {},
          "execution_count": 11
        }
      ],
      "source": [
        "# Listen to generated audio in English\n",
        "IPython.display.Audio(text_to_audio(english_text[-1]), rate=22050)"
      ]
    },
    {
      "cell_type": "code",
      "execution_count": 26,
      "metadata": {
        "id": "z1XZc_r7x5CA"
      },
      "outputs": [],
      "source": [
        "from scipy.io import wavfile\n",
        "import numpy as np\n",
        "\n",
        "def save_audio_en(audio, fname='out.mp3', sample_rate=22050):\n",
        "  out_audio = (audio*np.iinfo(np.int16).max).astype(np.int16)\n",
        "  wavfile.write(fname, sample_rate, audio)\n",
        "\n",
        "\n",
        "english_audios = [text_to_audio(eng_text) for eng_text in english_text]"
      ]
    },
    {
      "cell_type": "markdown",
      "metadata": {
        "id": "AF48uPNNcXLa"
      },
      "source": [
        "## Wandb 🏋️‍♀️\n",
        "\n",
        "Logging rich media types to wandb.\n",
        "- We can log audio files and play them back on the dashboard!"
      ]
    },
    {
      "cell_type": "code",
      "execution_count": 20,
      "metadata": {
        "id": "5iVwUQUzbvry"
      },
      "outputs": [],
      "source": [
        "!pip install -Uqqq wandb"
      ]
    },
    {
      "cell_type": "code",
      "execution_count": 21,
      "metadata": {
        "colab": {
          "base_uri": "https://localhost:8080/"
        },
        "id": "425B_v9_bvuw",
        "outputId": "b11fc2e8-0ea7-4b2c-a2c4-0191b3ab42c7"
      },
      "outputs": [
        {
          "output_type": "stream",
          "name": "stderr",
          "text": [
            "\u001b[34m\u001b[1mwandb\u001b[0m: \u001b[33mWARNING\u001b[0m Calling wandb.login() after wandb.init() has no effect.\n"
          ]
        },
        {
          "output_type": "execute_result",
          "data": {
            "text/plain": [
              "True"
            ]
          },
          "metadata": {},
          "execution_count": 21
        }
      ],
      "source": [
        "import wandb\n",
        "wandb.login()"
      ]
    },
    {
      "cell_type": "code",
      "execution_count": 22,
      "metadata": {
        "colab": {
          "base_uri": "https://localhost:8080/",
          "height": 195,
          "referenced_widgets": [
            "b6bdb2f3f5d743219d824b09873d748a",
            "cea2c8d3c6e847dd8c2bdd1e9f57232f",
            "86a4d4c4a814460cabdf78153b8f0999",
            "15dca6710da44192a7626e26607e68a8",
            "89b20306fedd47d7b23c6ac2a8b8c400",
            "2f6967f7f1d0479aa31bbb5a23571981",
            "825827ec92614bc1bbe05c3478f60a9a",
            "0a6305710b2446ad82f2076e74de7420"
          ]
        },
        "id": "zVycH8ZvcfSu",
        "outputId": "f1eb8c24-f2e7-4485-84b7-6b6612485641"
      },
      "outputs": [
        {
          "output_type": "display_data",
          "data": {
            "text/html": [
              "Finishing last run (ID:9924dcwb) before initializing another..."
            ],
            "text/plain": [
              "<IPython.core.display.HTML object>"
            ]
          },
          "metadata": {}
        },
        {
          "output_type": "display_data",
          "data": {
            "text/html": [
              "<br/>Waiting for W&B process to finish, PID 771... <strong style=\"color:green\">(success).</strong>"
            ],
            "text/plain": [
              "<IPython.core.display.HTML object>"
            ]
          },
          "metadata": {}
        },
        {
          "output_type": "display_data",
          "data": {
            "application/vnd.jupyter.widget-view+json": {
              "model_id": "b6bdb2f3f5d743219d824b09873d748a",
              "version_minor": 0,
              "version_major": 2
            },
            "text/plain": [
              "VBox(children=(Label(value=' 0.00MB of 0.00MB uploaded (0.00MB deduped)\\r'), FloatProgress(value=1.0, max=1.0)…"
            ]
          },
          "metadata": {}
        },
        {
          "output_type": "display_data",
          "data": {
            "text/html": [
              "<style>\n",
              "    table.wandb td:nth-child(1) { padding: 0 10px; text-align: right }\n",
              "    .wandb-row { display: flex; flex-direction: row; flex-wrap: wrap; width: 100% }\n",
              "    .wandb-col { display: flex; flex-direction: column; flex-basis: 100%; flex: 1; padding: 10px; }\n",
              "    </style>\n",
              "<div class=\"wandb-row\"><div class=\"wandb-col\">\n",
              "</div><div class=\"wandb-col\">\n",
              "</div></div>\n",
              "Synced 5 W&B file(s), 0 media file(s), 0 artifact file(s) and 0 other file(s)\n",
              "<br/>Synced <strong style=\"color:#cdcd00\">lyric-jazz-7</strong>: <a href=\"https://wandb.ai/tcapelle/NeMo/runs/9924dcwb\" target=\"_blank\">https://wandb.ai/tcapelle/NeMo/runs/9924dcwb</a><br/>\n",
              "Find logs at: <code>./wandb/run-20211209_133016-9924dcwb/logs</code><br/>\n"
            ],
            "text/plain": [
              "<IPython.core.display.HTML object>"
            ]
          },
          "metadata": {}
        },
        {
          "output_type": "display_data",
          "data": {
            "text/html": [
              "Successfully finished last run (ID:9924dcwb). Initializing new run:<br/>"
            ],
            "text/plain": [
              "<IPython.core.display.HTML object>"
            ]
          },
          "metadata": {}
        },
        {
          "output_type": "display_data",
          "data": {
            "text/html": [
              "\n",
              "                    Syncing run <strong><a href=\"https://wandb.ai/tcapelle/NeMo/runs/1kk11pgj\" target=\"_blank\">clean-dew-8</a></strong> to <a href=\"https://wandb.ai/tcapelle/NeMo\" target=\"_blank\">Weights & Biases</a> (<a href=\"https://docs.wandb.com/integrations/jupyter.html\" target=\"_blank\">docs</a>).<br/>\n",
              "\n",
              "                "
            ],
            "text/plain": [
              "<IPython.core.display.HTML object>"
            ]
          },
          "metadata": {}
        },
        {
          "output_type": "execute_result",
          "data": {
            "text/plain": [
              "<wandb.sdk.wandb_run.Run at 0x7fd8e8991f90>"
            ],
            "text/html": [
              "<button onClick=\"this.nextSibling.style.display='block';this.style.display='none';\">Display W&B run</button><iframe src=\"https://wandb.ai/tcapelle/NeMo/runs/1kk11pgj?jupyter=true\" style=\"border:none;width:100%;height:420px;display:none;\"></iframe>"
            ]
          },
          "metadata": {},
          "execution_count": 22
        }
      ],
      "source": [
        "wandb.init(project=\"NeMo\")"
      ]
    },
    {
      "cell_type": "code",
      "execution_count": 23,
      "metadata": {
        "id": "bALoMd3NdTB6"
      },
      "outputs": [],
      "source": [
        "table = wandb.Table(columns=['audio_input', 'transcribed_text', 'translated_text', 'audio_output'])"
      ]
    },
    {
      "cell_type": "code",
      "execution_count": 27,
      "metadata": {
        "id": "4sAhyWekdpbE"
      },
      "outputs": [],
      "source": [
        "def build_row(audio_fr_fname, fr_txt, eng_txt, audio_en_np):\n",
        "  \"Save output of the model to files\"\n",
        "  fname_en = audio_fr_fname.split('.')[0] + '_en.wav'\n",
        "  save_audio_en(audio_en, fname=fname_en, sample_rate=22050)\n",
        "  return [wandb.Audio(audio_fr_fname, sample_rate=16000), fr_txt, eng_txt, wandb.Audio(fname_en, sample_rate=22050)]"
      ]
    },
    {
      "cell_type": "code",
      "execution_count": 28,
      "metadata": {
        "id": "fcnlCtKAxbq6"
      },
      "outputs": [],
      "source": [
        "for audio_fr_fname, fr_txt, eng_txt, audio_en in zip(audio_samples, transcribed_text, english_text, english_audios):\n",
        "  table.add_data(*build_row(audio_fr_fname, fr_txt, eng_txt, audio_en))"
      ]
    },
    {
      "cell_type": "code",
      "execution_count": 29,
      "metadata": {
        "id": "QpcPoWnayMQz"
      },
      "outputs": [],
      "source": [
        "wandb.log({\"table\": table})"
      ]
    },
    {
      "cell_type": "code",
      "execution_count": 30,
      "metadata": {
        "colab": {
          "base_uri": "https://localhost:8080/",
          "height": 122,
          "referenced_widgets": [
            "0ca89890c94b4eac8c1b8b8d3d9b8b54",
            "e4cdf2b177134c0a96f3ed0a537c3c54",
            "859705bff9b5463284858337c962b6e4",
            "951c9d81979b4ed0b0b3f45e01de9e25",
            "17c495daaaa1496bbdb67933922cc6db",
            "cd707b50954a49ea9da14ca59331bf74",
            "aa003883f98f412c822d3cc7053bc23f",
            "0367362a62fc4c3988d61dad2572436c"
          ]
        },
        "id": "8wEuZ6h68A9T",
        "outputId": "1cd78c9a-4789-4e66-d791-96c113993593"
      },
      "outputs": [
        {
          "output_type": "display_data",
          "data": {
            "text/html": [
              "<br/>Waiting for W&B process to finish, PID 831... <strong style=\"color:green\">(success).</strong>"
            ],
            "text/plain": [
              "<IPython.core.display.HTML object>"
            ]
          },
          "metadata": {}
        },
        {
          "output_type": "display_data",
          "data": {
            "application/vnd.jupyter.widget-view+json": {
              "model_id": "0ca89890c94b4eac8c1b8b8d3d9b8b54",
              "version_minor": 0,
              "version_major": 2
            },
            "text/plain": [
              "VBox(children=(Label(value=' 1.56MB of 1.56MB uploaded (0.00MB deduped)\\r'), FloatProgress(value=0.99952421431…"
            ]
          },
          "metadata": {}
        },
        {
          "output_type": "display_data",
          "data": {
            "text/html": [
              "<style>\n",
              "    table.wandb td:nth-child(1) { padding: 0 10px; text-align: right }\n",
              "    .wandb-row { display: flex; flex-direction: row; flex-wrap: wrap; width: 100% }\n",
              "    .wandb-col { display: flex; flex-direction: column; flex-basis: 100%; flex: 1; padding: 10px; }\n",
              "    </style>\n",
              "<div class=\"wandb-row\"><div class=\"wandb-col\">\n",
              "</div><div class=\"wandb-col\">\n",
              "</div></div>\n",
              "Synced 4 W&B file(s), 1 media file(s), 11 artifact file(s) and 0 other file(s)\n",
              "<br/>Synced <strong style=\"color:#cdcd00\">clean-dew-8</strong>: <a href=\"https://wandb.ai/tcapelle/NeMo/runs/1kk11pgj\" target=\"_blank\">https://wandb.ai/tcapelle/NeMo/runs/1kk11pgj</a><br/>\n",
              "Find logs at: <code>./wandb/run-20211209_133111-1kk11pgj/logs</code><br/>\n"
            ],
            "text/plain": [
              "<IPython.core.display.HTML object>"
            ]
          },
          "metadata": {}
        }
      ],
      "source": [
        "wandb.finish()"
      ]
    }
  ],
  "metadata": {
    "accelerator": "GPU",
    "colab": {
      "collapsed_sections": [
        "V72HXYuQ_p9a",
        "EyJ5HiiPrPKA"
      ],
      "machine_shape": "hm",
      "name": "NeMo and wandb",
      "provenance": []
    },
    "kernelspec": {
      "display_name": "Python 3",
      "language": "python",
      "name": "python3"
    },
    "language_info": {
      "codemirror_mode": {
        "name": "ipython",
        "version": 3
      },
      "file_extension": ".py",
      "mimetype": "text/x-python",
      "name": "python",
      "nbconvert_exporter": "python",
      "pygments_lexer": "ipython3",
      "version": "3.7.7"
    },
    "widgets": {
      "application/vnd.jupyter.widget-state+json": {
        "2bed44e253a94a12acddd9c88b24a24d": {
          "model_module": "@jupyter-widgets/controls",
          "model_name": "HBoxModel",
          "model_module_version": "1.5.0",
          "state": {
            "_view_name": "HBoxView",
            "_dom_classes": [],
            "_model_name": "HBoxModel",
            "_view_module": "@jupyter-widgets/controls",
            "_model_module_version": "1.5.0",
            "_view_count": null,
            "_view_module_version": "1.5.0",
            "box_style": "",
            "layout": "IPY_MODEL_312a2ccd0add4308a634bdf9e4a4045c",
            "_model_module": "@jupyter-widgets/controls",
            "children": [
              "IPY_MODEL_f35f9b5972344ae7b69b0d51bf6f332b",
              "IPY_MODEL_babba5c21ca14e2c902719aac708539a",
              "IPY_MODEL_3d7584066b2446e49834198dcf183150"
            ]
          }
        },
        "312a2ccd0add4308a634bdf9e4a4045c": {
          "model_module": "@jupyter-widgets/base",
          "model_name": "LayoutModel",
          "model_module_version": "1.2.0",
          "state": {
            "_view_name": "LayoutView",
            "grid_template_rows": null,
            "right": null,
            "justify_content": null,
            "_view_module": "@jupyter-widgets/base",
            "overflow": null,
            "_model_module_version": "1.2.0",
            "_view_count": null,
            "flex_flow": null,
            "width": null,
            "min_width": null,
            "border": null,
            "align_items": null,
            "bottom": null,
            "_model_module": "@jupyter-widgets/base",
            "top": null,
            "grid_column": null,
            "overflow_y": null,
            "overflow_x": null,
            "grid_auto_flow": null,
            "grid_area": null,
            "grid_template_columns": null,
            "flex": null,
            "_model_name": "LayoutModel",
            "justify_items": null,
            "grid_row": null,
            "max_height": null,
            "align_content": null,
            "visibility": null,
            "align_self": null,
            "height": null,
            "min_height": null,
            "padding": null,
            "grid_auto_rows": null,
            "grid_gap": null,
            "max_width": null,
            "order": null,
            "_view_module_version": "1.2.0",
            "grid_template_areas": null,
            "object_position": null,
            "object_fit": null,
            "grid_auto_columns": null,
            "margin": null,
            "display": null,
            "left": null
          }
        },
        "f35f9b5972344ae7b69b0d51bf6f332b": {
          "model_module": "@jupyter-widgets/controls",
          "model_name": "HTMLModel",
          "model_module_version": "1.5.0",
          "state": {
            "_view_name": "HTMLView",
            "style": "IPY_MODEL_e59f99a3f68447719d6e3563ca460eba",
            "_dom_classes": [],
            "description": "",
            "_model_name": "HTMLModel",
            "placeholder": "​",
            "_view_module": "@jupyter-widgets/controls",
            "_model_module_version": "1.5.0",
            "value": "Transcribing: 100%",
            "_view_count": null,
            "_view_module_version": "1.5.0",
            "description_tooltip": null,
            "_model_module": "@jupyter-widgets/controls",
            "layout": "IPY_MODEL_d2207e75876b4baebb400ef7f2a7d7fd"
          }
        },
        "babba5c21ca14e2c902719aac708539a": {
          "model_module": "@jupyter-widgets/controls",
          "model_name": "FloatProgressModel",
          "model_module_version": "1.5.0",
          "state": {
            "_view_name": "ProgressView",
            "style": "IPY_MODEL_923a3330580c47a597cb5754b743321e",
            "_dom_classes": [],
            "description": "",
            "_model_name": "FloatProgressModel",
            "bar_style": "success",
            "max": 2,
            "_view_module": "@jupyter-widgets/controls",
            "_model_module_version": "1.5.0",
            "value": 2,
            "_view_count": null,
            "_view_module_version": "1.5.0",
            "orientation": "horizontal",
            "min": 0,
            "description_tooltip": null,
            "_model_module": "@jupyter-widgets/controls",
            "layout": "IPY_MODEL_86c05288c9304f8bbe88d1aba560a9b6"
          }
        },
        "3d7584066b2446e49834198dcf183150": {
          "model_module": "@jupyter-widgets/controls",
          "model_name": "HTMLModel",
          "model_module_version": "1.5.0",
          "state": {
            "_view_name": "HTMLView",
            "style": "IPY_MODEL_00bdf68a696949e3afb988a29a166f94",
            "_dom_classes": [],
            "description": "",
            "_model_name": "HTMLModel",
            "placeholder": "​",
            "_view_module": "@jupyter-widgets/controls",
            "_model_module_version": "1.5.0",
            "value": " 2/2 [00:03&lt;00:00,  2.88s/it]",
            "_view_count": null,
            "_view_module_version": "1.5.0",
            "description_tooltip": null,
            "_model_module": "@jupyter-widgets/controls",
            "layout": "IPY_MODEL_a770f6315ec846ae9aa25697dfed283b"
          }
        },
        "e59f99a3f68447719d6e3563ca460eba": {
          "model_module": "@jupyter-widgets/controls",
          "model_name": "DescriptionStyleModel",
          "model_module_version": "1.5.0",
          "state": {
            "_view_name": "StyleView",
            "_model_name": "DescriptionStyleModel",
            "description_width": "",
            "_view_module": "@jupyter-widgets/base",
            "_model_module_version": "1.5.0",
            "_view_count": null,
            "_view_module_version": "1.2.0",
            "_model_module": "@jupyter-widgets/controls"
          }
        },
        "d2207e75876b4baebb400ef7f2a7d7fd": {
          "model_module": "@jupyter-widgets/base",
          "model_name": "LayoutModel",
          "model_module_version": "1.2.0",
          "state": {
            "_view_name": "LayoutView",
            "grid_template_rows": null,
            "right": null,
            "justify_content": null,
            "_view_module": "@jupyter-widgets/base",
            "overflow": null,
            "_model_module_version": "1.2.0",
            "_view_count": null,
            "flex_flow": null,
            "width": null,
            "min_width": null,
            "border": null,
            "align_items": null,
            "bottom": null,
            "_model_module": "@jupyter-widgets/base",
            "top": null,
            "grid_column": null,
            "overflow_y": null,
            "overflow_x": null,
            "grid_auto_flow": null,
            "grid_area": null,
            "grid_template_columns": null,
            "flex": null,
            "_model_name": "LayoutModel",
            "justify_items": null,
            "grid_row": null,
            "max_height": null,
            "align_content": null,
            "visibility": null,
            "align_self": null,
            "height": null,
            "min_height": null,
            "padding": null,
            "grid_auto_rows": null,
            "grid_gap": null,
            "max_width": null,
            "order": null,
            "_view_module_version": "1.2.0",
            "grid_template_areas": null,
            "object_position": null,
            "object_fit": null,
            "grid_auto_columns": null,
            "margin": null,
            "display": null,
            "left": null
          }
        },
        "923a3330580c47a597cb5754b743321e": {
          "model_module": "@jupyter-widgets/controls",
          "model_name": "ProgressStyleModel",
          "model_module_version": "1.5.0",
          "state": {
            "_view_name": "StyleView",
            "_model_name": "ProgressStyleModel",
            "description_width": "",
            "_view_module": "@jupyter-widgets/base",
            "_model_module_version": "1.5.0",
            "_view_count": null,
            "_view_module_version": "1.2.0",
            "bar_color": null,
            "_model_module": "@jupyter-widgets/controls"
          }
        },
        "86c05288c9304f8bbe88d1aba560a9b6": {
          "model_module": "@jupyter-widgets/base",
          "model_name": "LayoutModel",
          "model_module_version": "1.2.0",
          "state": {
            "_view_name": "LayoutView",
            "grid_template_rows": null,
            "right": null,
            "justify_content": null,
            "_view_module": "@jupyter-widgets/base",
            "overflow": null,
            "_model_module_version": "1.2.0",
            "_view_count": null,
            "flex_flow": null,
            "width": null,
            "min_width": null,
            "border": null,
            "align_items": null,
            "bottom": null,
            "_model_module": "@jupyter-widgets/base",
            "top": null,
            "grid_column": null,
            "overflow_y": null,
            "overflow_x": null,
            "grid_auto_flow": null,
            "grid_area": null,
            "grid_template_columns": null,
            "flex": null,
            "_model_name": "LayoutModel",
            "justify_items": null,
            "grid_row": null,
            "max_height": null,
            "align_content": null,
            "visibility": null,
            "align_self": null,
            "height": null,
            "min_height": null,
            "padding": null,
            "grid_auto_rows": null,
            "grid_gap": null,
            "max_width": null,
            "order": null,
            "_view_module_version": "1.2.0",
            "grid_template_areas": null,
            "object_position": null,
            "object_fit": null,
            "grid_auto_columns": null,
            "margin": null,
            "display": null,
            "left": null
          }
        },
        "00bdf68a696949e3afb988a29a166f94": {
          "model_module": "@jupyter-widgets/controls",
          "model_name": "DescriptionStyleModel",
          "model_module_version": "1.5.0",
          "state": {
            "_view_name": "StyleView",
            "_model_name": "DescriptionStyleModel",
            "description_width": "",
            "_view_module": "@jupyter-widgets/base",
            "_model_module_version": "1.5.0",
            "_view_count": null,
            "_view_module_version": "1.2.0",
            "_model_module": "@jupyter-widgets/controls"
          }
        },
        "a770f6315ec846ae9aa25697dfed283b": {
          "model_module": "@jupyter-widgets/base",
          "model_name": "LayoutModel",
          "model_module_version": "1.2.0",
          "state": {
            "_view_name": "LayoutView",
            "grid_template_rows": null,
            "right": null,
            "justify_content": null,
            "_view_module": "@jupyter-widgets/base",
            "overflow": null,
            "_model_module_version": "1.2.0",
            "_view_count": null,
            "flex_flow": null,
            "width": null,
            "min_width": null,
            "border": null,
            "align_items": null,
            "bottom": null,
            "_model_module": "@jupyter-widgets/base",
            "top": null,
            "grid_column": null,
            "overflow_y": null,
            "overflow_x": null,
            "grid_auto_flow": null,
            "grid_area": null,
            "grid_template_columns": null,
            "flex": null,
            "_model_name": "LayoutModel",
            "justify_items": null,
            "grid_row": null,
            "max_height": null,
            "align_content": null,
            "visibility": null,
            "align_self": null,
            "height": null,
            "min_height": null,
            "padding": null,
            "grid_auto_rows": null,
            "grid_gap": null,
            "max_width": null,
            "order": null,
            "_view_module_version": "1.2.0",
            "grid_template_areas": null,
            "object_position": null,
            "object_fit": null,
            "grid_auto_columns": null,
            "margin": null,
            "display": null,
            "left": null
          }
        },
        "b6bdb2f3f5d743219d824b09873d748a": {
          "model_module": "@jupyter-widgets/controls",
          "model_name": "VBoxModel",
          "model_module_version": "1.5.0",
          "state": {
            "_view_name": "VBoxView",
            "_dom_classes": [],
            "_model_name": "VBoxModel",
            "_view_module": "@jupyter-widgets/controls",
            "_model_module_version": "1.5.0",
            "_view_count": null,
            "_view_module_version": "1.5.0",
            "box_style": "",
            "layout": "IPY_MODEL_cea2c8d3c6e847dd8c2bdd1e9f57232f",
            "_model_module": "@jupyter-widgets/controls",
            "children": [
              "IPY_MODEL_86a4d4c4a814460cabdf78153b8f0999",
              "IPY_MODEL_15dca6710da44192a7626e26607e68a8"
            ]
          }
        },
        "cea2c8d3c6e847dd8c2bdd1e9f57232f": {
          "model_module": "@jupyter-widgets/base",
          "model_name": "LayoutModel",
          "model_module_version": "1.2.0",
          "state": {
            "_view_name": "LayoutView",
            "grid_template_rows": null,
            "right": null,
            "justify_content": null,
            "_view_module": "@jupyter-widgets/base",
            "overflow": null,
            "_model_module_version": "1.2.0",
            "_view_count": null,
            "flex_flow": null,
            "width": null,
            "min_width": null,
            "border": null,
            "align_items": null,
            "bottom": null,
            "_model_module": "@jupyter-widgets/base",
            "top": null,
            "grid_column": null,
            "overflow_y": null,
            "overflow_x": null,
            "grid_auto_flow": null,
            "grid_area": null,
            "grid_template_columns": null,
            "flex": null,
            "_model_name": "LayoutModel",
            "justify_items": null,
            "grid_row": null,
            "max_height": null,
            "align_content": null,
            "visibility": null,
            "align_self": null,
            "height": null,
            "min_height": null,
            "padding": null,
            "grid_auto_rows": null,
            "grid_gap": null,
            "max_width": null,
            "order": null,
            "_view_module_version": "1.2.0",
            "grid_template_areas": null,
            "object_position": null,
            "object_fit": null,
            "grid_auto_columns": null,
            "margin": null,
            "display": null,
            "left": null
          }
        },
        "86a4d4c4a814460cabdf78153b8f0999": {
          "model_module": "@jupyter-widgets/controls",
          "model_name": "LabelModel",
          "model_module_version": "1.5.0",
          "state": {
            "_view_name": "LabelView",
            "style": "IPY_MODEL_89b20306fedd47d7b23c6ac2a8b8c400",
            "_dom_classes": [],
            "description": "",
            "_model_name": "LabelModel",
            "placeholder": "​",
            "_view_module": "@jupyter-widgets/controls",
            "_model_module_version": "1.5.0",
            "value": " 0.01MB of 0.01MB uploaded (0.00MB deduped)\r",
            "_view_count": null,
            "_view_module_version": "1.5.0",
            "description_tooltip": null,
            "_model_module": "@jupyter-widgets/controls",
            "layout": "IPY_MODEL_2f6967f7f1d0479aa31bbb5a23571981"
          }
        },
        "15dca6710da44192a7626e26607e68a8": {
          "model_module": "@jupyter-widgets/controls",
          "model_name": "FloatProgressModel",
          "model_module_version": "1.5.0",
          "state": {
            "_view_name": "ProgressView",
            "style": "IPY_MODEL_825827ec92614bc1bbe05c3478f60a9a",
            "_dom_classes": [],
            "description": "",
            "_model_name": "FloatProgressModel",
            "bar_style": "",
            "max": 1,
            "_view_module": "@jupyter-widgets/controls",
            "_model_module_version": "1.5.0",
            "value": 1,
            "_view_count": null,
            "_view_module_version": "1.5.0",
            "orientation": "horizontal",
            "min": 0,
            "description_tooltip": null,
            "_model_module": "@jupyter-widgets/controls",
            "layout": "IPY_MODEL_0a6305710b2446ad82f2076e74de7420"
          }
        },
        "89b20306fedd47d7b23c6ac2a8b8c400": {
          "model_module": "@jupyter-widgets/controls",
          "model_name": "DescriptionStyleModel",
          "model_module_version": "1.5.0",
          "state": {
            "_view_name": "StyleView",
            "_model_name": "DescriptionStyleModel",
            "description_width": "",
            "_view_module": "@jupyter-widgets/base",
            "_model_module_version": "1.5.0",
            "_view_count": null,
            "_view_module_version": "1.2.0",
            "_model_module": "@jupyter-widgets/controls"
          }
        },
        "2f6967f7f1d0479aa31bbb5a23571981": {
          "model_module": "@jupyter-widgets/base",
          "model_name": "LayoutModel",
          "model_module_version": "1.2.0",
          "state": {
            "_view_name": "LayoutView",
            "grid_template_rows": null,
            "right": null,
            "justify_content": null,
            "_view_module": "@jupyter-widgets/base",
            "overflow": null,
            "_model_module_version": "1.2.0",
            "_view_count": null,
            "flex_flow": null,
            "width": null,
            "min_width": null,
            "border": null,
            "align_items": null,
            "bottom": null,
            "_model_module": "@jupyter-widgets/base",
            "top": null,
            "grid_column": null,
            "overflow_y": null,
            "overflow_x": null,
            "grid_auto_flow": null,
            "grid_area": null,
            "grid_template_columns": null,
            "flex": null,
            "_model_name": "LayoutModel",
            "justify_items": null,
            "grid_row": null,
            "max_height": null,
            "align_content": null,
            "visibility": null,
            "align_self": null,
            "height": null,
            "min_height": null,
            "padding": null,
            "grid_auto_rows": null,
            "grid_gap": null,
            "max_width": null,
            "order": null,
            "_view_module_version": "1.2.0",
            "grid_template_areas": null,
            "object_position": null,
            "object_fit": null,
            "grid_auto_columns": null,
            "margin": null,
            "display": null,
            "left": null
          }
        },
        "825827ec92614bc1bbe05c3478f60a9a": {
          "model_module": "@jupyter-widgets/controls",
          "model_name": "ProgressStyleModel",
          "model_module_version": "1.5.0",
          "state": {
            "_view_name": "StyleView",
            "_model_name": "ProgressStyleModel",
            "description_width": "",
            "_view_module": "@jupyter-widgets/base",
            "_model_module_version": "1.5.0",
            "_view_count": null,
            "_view_module_version": "1.2.0",
            "bar_color": null,
            "_model_module": "@jupyter-widgets/controls"
          }
        },
        "0a6305710b2446ad82f2076e74de7420": {
          "model_module": "@jupyter-widgets/base",
          "model_name": "LayoutModel",
          "model_module_version": "1.2.0",
          "state": {
            "_view_name": "LayoutView",
            "grid_template_rows": null,
            "right": null,
            "justify_content": null,
            "_view_module": "@jupyter-widgets/base",
            "overflow": null,
            "_model_module_version": "1.2.0",
            "_view_count": null,
            "flex_flow": null,
            "width": null,
            "min_width": null,
            "border": null,
            "align_items": null,
            "bottom": null,
            "_model_module": "@jupyter-widgets/base",
            "top": null,
            "grid_column": null,
            "overflow_y": null,
            "overflow_x": null,
            "grid_auto_flow": null,
            "grid_area": null,
            "grid_template_columns": null,
            "flex": null,
            "_model_name": "LayoutModel",
            "justify_items": null,
            "grid_row": null,
            "max_height": null,
            "align_content": null,
            "visibility": null,
            "align_self": null,
            "height": null,
            "min_height": null,
            "padding": null,
            "grid_auto_rows": null,
            "grid_gap": null,
            "max_width": null,
            "order": null,
            "_view_module_version": "1.2.0",
            "grid_template_areas": null,
            "object_position": null,
            "object_fit": null,
            "grid_auto_columns": null,
            "margin": null,
            "display": null,
            "left": null
          }
        },
        "0ca89890c94b4eac8c1b8b8d3d9b8b54": {
          "model_module": "@jupyter-widgets/controls",
          "model_name": "VBoxModel",
          "model_module_version": "1.5.0",
          "state": {
            "_view_name": "VBoxView",
            "_dom_classes": [],
            "_model_name": "VBoxModel",
            "_view_module": "@jupyter-widgets/controls",
            "_model_module_version": "1.5.0",
            "_view_count": null,
            "_view_module_version": "1.5.0",
            "box_style": "",
            "layout": "IPY_MODEL_e4cdf2b177134c0a96f3ed0a537c3c54",
            "_model_module": "@jupyter-widgets/controls",
            "children": [
              "IPY_MODEL_859705bff9b5463284858337c962b6e4",
              "IPY_MODEL_951c9d81979b4ed0b0b3f45e01de9e25"
            ]
          }
        },
        "e4cdf2b177134c0a96f3ed0a537c3c54": {
          "model_module": "@jupyter-widgets/base",
          "model_name": "LayoutModel",
          "model_module_version": "1.2.0",
          "state": {
            "_view_name": "LayoutView",
            "grid_template_rows": null,
            "right": null,
            "justify_content": null,
            "_view_module": "@jupyter-widgets/base",
            "overflow": null,
            "_model_module_version": "1.2.0",
            "_view_count": null,
            "flex_flow": null,
            "width": null,
            "min_width": null,
            "border": null,
            "align_items": null,
            "bottom": null,
            "_model_module": "@jupyter-widgets/base",
            "top": null,
            "grid_column": null,
            "overflow_y": null,
            "overflow_x": null,
            "grid_auto_flow": null,
            "grid_area": null,
            "grid_template_columns": null,
            "flex": null,
            "_model_name": "LayoutModel",
            "justify_items": null,
            "grid_row": null,
            "max_height": null,
            "align_content": null,
            "visibility": null,
            "align_self": null,
            "height": null,
            "min_height": null,
            "padding": null,
            "grid_auto_rows": null,
            "grid_gap": null,
            "max_width": null,
            "order": null,
            "_view_module_version": "1.2.0",
            "grid_template_areas": null,
            "object_position": null,
            "object_fit": null,
            "grid_auto_columns": null,
            "margin": null,
            "display": null,
            "left": null
          }
        },
        "859705bff9b5463284858337c962b6e4": {
          "model_module": "@jupyter-widgets/controls",
          "model_name": "LabelModel",
          "model_module_version": "1.5.0",
          "state": {
            "_view_name": "LabelView",
            "style": "IPY_MODEL_17c495daaaa1496bbdb67933922cc6db",
            "_dom_classes": [],
            "description": "",
            "_model_name": "LabelModel",
            "placeholder": "​",
            "_view_module": "@jupyter-widgets/controls",
            "_model_module_version": "1.5.0",
            "value": " 1.57MB of 1.57MB uploaded (0.00MB deduped)\r",
            "_view_count": null,
            "_view_module_version": "1.5.0",
            "description_tooltip": null,
            "_model_module": "@jupyter-widgets/controls",
            "layout": "IPY_MODEL_cd707b50954a49ea9da14ca59331bf74"
          }
        },
        "951c9d81979b4ed0b0b3f45e01de9e25": {
          "model_module": "@jupyter-widgets/controls",
          "model_name": "FloatProgressModel",
          "model_module_version": "1.5.0",
          "state": {
            "_view_name": "ProgressView",
            "style": "IPY_MODEL_aa003883f98f412c822d3cc7053bc23f",
            "_dom_classes": [],
            "description": "",
            "_model_name": "FloatProgressModel",
            "bar_style": "",
            "max": 1,
            "_view_module": "@jupyter-widgets/controls",
            "_model_module_version": "1.5.0",
            "value": 1,
            "_view_count": null,
            "_view_module_version": "1.5.0",
            "orientation": "horizontal",
            "min": 0,
            "description_tooltip": null,
            "_model_module": "@jupyter-widgets/controls",
            "layout": "IPY_MODEL_0367362a62fc4c3988d61dad2572436c"
          }
        },
        "17c495daaaa1496bbdb67933922cc6db": {
          "model_module": "@jupyter-widgets/controls",
          "model_name": "DescriptionStyleModel",
          "model_module_version": "1.5.0",
          "state": {
            "_view_name": "StyleView",
            "_model_name": "DescriptionStyleModel",
            "description_width": "",
            "_view_module": "@jupyter-widgets/base",
            "_model_module_version": "1.5.0",
            "_view_count": null,
            "_view_module_version": "1.2.0",
            "_model_module": "@jupyter-widgets/controls"
          }
        },
        "cd707b50954a49ea9da14ca59331bf74": {
          "model_module": "@jupyter-widgets/base",
          "model_name": "LayoutModel",
          "model_module_version": "1.2.0",
          "state": {
            "_view_name": "LayoutView",
            "grid_template_rows": null,
            "right": null,
            "justify_content": null,
            "_view_module": "@jupyter-widgets/base",
            "overflow": null,
            "_model_module_version": "1.2.0",
            "_view_count": null,
            "flex_flow": null,
            "width": null,
            "min_width": null,
            "border": null,
            "align_items": null,
            "bottom": null,
            "_model_module": "@jupyter-widgets/base",
            "top": null,
            "grid_column": null,
            "overflow_y": null,
            "overflow_x": null,
            "grid_auto_flow": null,
            "grid_area": null,
            "grid_template_columns": null,
            "flex": null,
            "_model_name": "LayoutModel",
            "justify_items": null,
            "grid_row": null,
            "max_height": null,
            "align_content": null,
            "visibility": null,
            "align_self": null,
            "height": null,
            "min_height": null,
            "padding": null,
            "grid_auto_rows": null,
            "grid_gap": null,
            "max_width": null,
            "order": null,
            "_view_module_version": "1.2.0",
            "grid_template_areas": null,
            "object_position": null,
            "object_fit": null,
            "grid_auto_columns": null,
            "margin": null,
            "display": null,
            "left": null
          }
        },
        "aa003883f98f412c822d3cc7053bc23f": {
          "model_module": "@jupyter-widgets/controls",
          "model_name": "ProgressStyleModel",
          "model_module_version": "1.5.0",
          "state": {
            "_view_name": "StyleView",
            "_model_name": "ProgressStyleModel",
            "description_width": "",
            "_view_module": "@jupyter-widgets/base",
            "_model_module_version": "1.5.0",
            "_view_count": null,
            "_view_module_version": "1.2.0",
            "bar_color": null,
            "_model_module": "@jupyter-widgets/controls"
          }
        },
        "0367362a62fc4c3988d61dad2572436c": {
          "model_module": "@jupyter-widgets/base",
          "model_name": "LayoutModel",
          "model_module_version": "1.2.0",
          "state": {
            "_view_name": "LayoutView",
            "grid_template_rows": null,
            "right": null,
            "justify_content": null,
            "_view_module": "@jupyter-widgets/base",
            "overflow": null,
            "_model_module_version": "1.2.0",
            "_view_count": null,
            "flex_flow": null,
            "width": null,
            "min_width": null,
            "border": null,
            "align_items": null,
            "bottom": null,
            "_model_module": "@jupyter-widgets/base",
            "top": null,
            "grid_column": null,
            "overflow_y": null,
            "overflow_x": null,
            "grid_auto_flow": null,
            "grid_area": null,
            "grid_template_columns": null,
            "flex": null,
            "_model_name": "LayoutModel",
            "justify_items": null,
            "grid_row": null,
            "max_height": null,
            "align_content": null,
            "visibility": null,
            "align_self": null,
            "height": null,
            "min_height": null,
            "padding": null,
            "grid_auto_rows": null,
            "grid_gap": null,
            "max_width": null,
            "order": null,
            "_view_module_version": "1.2.0",
            "grid_template_areas": null,
            "object_position": null,
            "object_fit": null,
            "grid_auto_columns": null,
            "margin": null,
            "display": null,
            "left": null
          }
        }
      }
    }
  },
  "nbformat": 4,
  "nbformat_minor": 0
}