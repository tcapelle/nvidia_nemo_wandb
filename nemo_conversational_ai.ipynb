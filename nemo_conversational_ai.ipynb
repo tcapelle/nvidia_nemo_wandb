{
 "cells": [
  {
   "cell_type": "markdown",
   "metadata": {
    "id": "iLg9_maIU3kL"
   },
   "source": [
    "<a href=\"https://colab.research.google.com/github/tcapelle/nvidia_nemo_wandb/blob/main/nemo_conversational_ai.ipynb\" target=\"_parent\"><img src=\"https://colab.research.google.com/assets/colab-badge.svg\" alt=\"Open In Colab\"/></a>"
   ]
  },
  {
   "cell_type": "markdown",
   "metadata": {
    "id": "RYGnI-EZp_nK"
   },
   "source": [
    "# Getting Started: Sample Conversational AI application\n",
    "This notebook shows how to use NVIDIA NeMo (https://github.com/NVIDIA/NeMo) to construct a toy demo which translate Mandarin audio file into English one.\n",
    "\n",
    "The demo demonstrates how to: \n",
    "\n",
    "* Instantiate pre-trained NeMo models from NVIDIA NGC.\n",
    "* Transcribe audio with (Mandarin) speech recognition model.\n",
    "* Translate text with machine translation model.\n",
    "* Generate audio with text-to-speech models."
   ]
  },
  {
   "cell_type": "markdown",
   "metadata": {
    "id": "V72HXYuQ_p9a"
   },
   "source": [
    "## Installation\n",
    "NeMo can be installed via simple pip command.\n",
    "This will take about 4 minutes.\n",
    "\n",
    "(The installation method below should work inside your new Conda environment or in an NVIDIA docker container.)"
   ]
  },
  {
   "cell_type": "code",
   "execution_count": null,
   "metadata": {
    "colab": {
     "base_uri": "https://localhost:8080/"
    },
    "id": "efDmTWf1_iYK",
    "outputId": "30867b61-13b0-408f-9c30-dd2902be1b2f"
   },
   "outputs": [],
   "source": [
    "!git clone https://github.com/tcapelle/nvidia_nemo_wandb/\n",
    "\n",
    "BRANCH = 'r1.5.0'\n",
    "!python -m pip install git+https://github.com/NVIDIA/NeMo.git@$BRANCH#egg=nemo_toolkit[all]"
   ]
  },
  {
   "cell_type": "markdown",
   "metadata": {
    "id": "EyJ5HiiPrPKA"
   },
   "source": [
    "## Import all necessary packages"
   ]
  },
  {
   "cell_type": "code",
   "execution_count": null,
   "metadata": {
    "colab": {
     "base_uri": "https://localhost:8080/"
    },
    "id": "tdUqxeUEA8nw",
    "outputId": "69139e39-cde0-4c00-b69e-f01cf63e001a"
   },
   "outputs": [],
   "source": [
    "from pathlib import Path\n",
    "\n",
    "# Import NeMo and it's ASR, NLP and TTS collections\n",
    "import nemo\n",
    "# Import Speech Recognition collection\n",
    "import nemo.collections.asr as nemo_asr\n",
    "# Import Natural Language Processing colleciton\n",
    "import nemo.collections.nlp as nemo_nlp\n",
    "# Import Speech Synthesis collection\n",
    "import nemo.collections.tts as nemo_tts\n",
    "# We'll use this to listen to audio\n",
    "import IPython"
   ]
  },
  {
   "cell_type": "markdown",
   "metadata": {
    "id": "bt2EZyU3A1aq"
   },
   "source": [
    "## Instantiate pre-trained NeMo models\n",
    "\n",
    "Every NeMo model has these methods:\n",
    "\n",
    "* ``list_available_models()`` - it will list all models currently available on NGC and their names.\n",
    "\n",
    "* ``from_pretrained(...)`` API downloads and initialized model directly from the NGC using model name.\n"
   ]
  },
  {
   "cell_type": "code",
   "execution_count": null,
   "metadata": {
    "colab": {
     "base_uri": "https://localhost:8080/"
    },
    "id": "YNNHs5Xjr8ox",
    "outputId": "b71e011e-9418-4391-afcf-d345a81464e4",
    "scrolled": true
   },
   "outputs": [],
   "source": [
    "# Here is an example of all CTC-based models:\n",
    "nemo_asr.models.EncDecCTCModel.list_available_models()\n",
    "# More ASR Models are available - see: nemo_asr.models.ASRModel.list_available_models()"
   ]
  },
  {
   "cell_type": "code",
   "execution_count": null,
   "metadata": {
    "colab": {
     "base_uri": "https://localhost:8080/"
    },
    "id": "Xr-OzMNOfBVh",
    "outputId": "dc4916fe-1c04-4a03-e31a-acd5348b5420"
   },
   "outputs": [],
   "source": [
    "nemo_nlp.models.MTEncDecModel.list_available_models()"
   ]
  },
  {
   "cell_type": "code",
   "execution_count": null,
   "metadata": {
    "colab": {
     "base_uri": "https://localhost:8080/"
    },
    "id": "1h9nhICjA5Dk",
    "outputId": "ff20bbeb-9881-47e2-df12-f9b8841b7cdc",
    "scrolled": true
   },
   "outputs": [],
   "source": [
    "# Speech Recognition model - Citrinet initially trained on Multilingual LibriSpeech English corpus, and fine-tuned on the open source Aishell-2\n",
    "asr_model = nemo_asr.models.EncDecCTCModel.from_pretrained(model_name=\"stt_fr_quartznet15x5\").cuda()\n",
    "# Neural Machine Translation model\n",
    "nmt_model = nemo_nlp.models.MTEncDecModel.from_pretrained(model_name='nmt_fr_en_transformer12x2').cuda()\n",
    "# Spectrogram generator which takes text as an input and produces spectrogram\n",
    "spectrogram_generator = nemo_tts.models.FastPitchModel.from_pretrained(model_name=\"tts_en_fastpitch\").cuda()\n",
    "# Vocoder model which takes spectrogram and produces actual audio\n",
    "vocoder = nemo_tts.models.HifiGanModel.from_pretrained(model_name=\"tts_hifigan\").cuda()"
   ]
  },
  {
   "cell_type": "markdown",
   "metadata": {
    "id": "KPota-JtsqSY"
   },
   "source": [
    "## Get an audio sample in French\n"
   ]
  },
  {
   "cell_type": "code",
   "execution_count": null,
   "metadata": {
    "id": "PRHo7d8FWrn0"
   },
   "outputs": [],
   "source": [
    "audio_samples = [str(f) for f in Path(\"nvidia_nemo_wandb/audio_samples\").iterdir()]"
   ]
  },
  {
   "cell_type": "code",
   "execution_count": null,
   "metadata": {
    "colab": {
     "base_uri": "https://localhost:8080/",
     "height": 52
    },
    "id": "sJKZjsdrgQre",
    "outputId": "87afb791-d07a-4a2a-8cf0-9e8a0dc1a028"
   },
   "outputs": [],
   "source": [
    "IPython.display.Audio(audio_samples[0])"
   ]
  },
  {
   "cell_type": "markdown",
   "metadata": {
    "id": "BaCdNJhhtBfM"
   },
   "source": [
    "## Transcribe audio file\n",
    "We will use speech recognition model to convert audio into text.\n"
   ]
  },
  {
   "cell_type": "code",
   "execution_count": null,
   "metadata": {
    "colab": {
     "base_uri": "https://localhost:8080/",
     "height": 171,
     "referenced_widgets": [
      "2bed44e253a94a12acddd9c88b24a24d",
      "312a2ccd0add4308a634bdf9e4a4045c",
      "f35f9b5972344ae7b69b0d51bf6f332b",
      "babba5c21ca14e2c902719aac708539a",
      "3d7584066b2446e49834198dcf183150",
      "e59f99a3f68447719d6e3563ca460eba",
      "d2207e75876b4baebb400ef7f2a7d7fd",
      "923a3330580c47a597cb5754b743321e",
      "86c05288c9304f8bbe88d1aba560a9b6",
      "00bdf68a696949e3afb988a29a166f94",
      "a770f6315ec846ae9aa25697dfed283b"
     ]
    },
    "id": "KTA7jM6sL6yC",
    "outputId": "28254f9a-ded4-4edf-d2fe-246b13d28a31"
   },
   "outputs": [],
   "source": [
    "transcribed_text = asr_model.transcribe(audio_samples)\n",
    "print(transcribed_text)"
   ]
  },
  {
   "cell_type": "markdown",
   "metadata": {
    "id": "BjYb2TMtttCc"
   },
   "source": [
    "## Translate French text into English\n",
    "NeMo's NMT models have a handy ``.translate()`` method."
   ]
  },
  {
   "cell_type": "code",
   "execution_count": null,
   "metadata": {
    "colab": {
     "base_uri": "https://localhost:8080/"
    },
    "id": "kQTdE4b9Nm9O",
    "outputId": "999ee10a-b579-4897-d466-24d1ee517cc9"
   },
   "outputs": [],
   "source": [
    "english_text = nmt_model.translate(transcribed_text)\n",
    "print(english_text)"
   ]
  },
  {
   "cell_type": "markdown",
   "metadata": {
    "id": "9Rppc59Ut7uy"
   },
   "source": [
    "## Generate English audio from text\n",
    "Speech generation from text typically has two steps:\n",
    "* Generate spectrogram from the text. In this example we will use FastPitch model for this.\n",
    "* Generate actual audio from the spectrogram. In this example we will use HifiGan model for this.\n"
   ]
  },
  {
   "cell_type": "code",
   "execution_count": null,
   "metadata": {
    "id": "wpMYfufgNt15"
   },
   "outputs": [],
   "source": [
    "# A helper function which combines FastPitch and HifiGan to go directly from \n",
    "# text to audio\n",
    "def text_to_audio(text):\n",
    "  parsed = spectrogram_generator.parse(text)\n",
    "  spectrogram = spectrogram_generator.generate_spectrogram(tokens=parsed)\n",
    "  audio = vocoder.convert_spectrogram_to_audio(spec=spectrogram)\n",
    "  return audio.squeeze().to('cpu').detach().numpy()"
   ]
  },
  {
   "cell_type": "code",
   "execution_count": null,
   "metadata": {
    "colab": {
     "base_uri": "https://localhost:8080/",
     "height": 89
    },
    "id": "Q9nOG8L1YyAF",
    "outputId": "c33b988d-3e05-44d8-ccb3-b8b1784b8305"
   },
   "outputs": [],
   "source": [
    "# Listen to generated audio in English\n",
    "IPython.display.Audio(text_to_audio(english_text[-1]), rate=22050)"
   ]
  },
  {
   "cell_type": "code",
   "execution_count": null,
   "metadata": {
    "id": "z1XZc_r7x5CA"
   },
   "outputs": [],
   "source": [
    "from scipy.io import wavfile\n",
    "import numpy as np\n",
    "\n",
    "def save_audio_en(audio, fname='out.mp3', sample_rate=22050):\n",
    "  out_audio = (audio*np.iinfo(np.int16).max).astype(np.int16)\n",
    "  wavfile.write(fname, sample_rate, audio)\n",
    "\n",
    "\n",
    "english_audios = [text_to_audio(eng_text) for eng_text in english_text]"
   ]
  },
  {
   "cell_type": "markdown",
   "metadata": {
    "id": "AF48uPNNcXLa"
   },
   "source": [
    "## Wandb 🏋️‍♀️\n",
    "\n",
    "Logging rich media types to wandb.\n",
    "- We can log audio files and play them back on the dashboard!"
   ]
  },
  {
   "cell_type": "code",
   "execution_count": null,
   "metadata": {
    "id": "5iVwUQUzbvry"
   },
   "outputs": [],
   "source": [
    "!pip install -Uqqq wandb"
   ]
  },
  {
   "cell_type": "code",
   "execution_count": null,
   "metadata": {
    "colab": {
     "base_uri": "https://localhost:8080/"
    },
    "id": "425B_v9_bvuw",
    "outputId": "b11fc2e8-0ea7-4b2c-a2c4-0191b3ab42c7"
   },
   "outputs": [],
   "source": [
    "import wandb\n",
    "wandb.login()"
   ]
  },
  {
   "cell_type": "code",
   "execution_count": null,
   "metadata": {
    "colab": {
     "base_uri": "https://localhost:8080/",
     "height": 195,
     "referenced_widgets": [
      "b6bdb2f3f5d743219d824b09873d748a",
      "cea2c8d3c6e847dd8c2bdd1e9f57232f",
      "86a4d4c4a814460cabdf78153b8f0999",
      "15dca6710da44192a7626e26607e68a8",
      "89b20306fedd47d7b23c6ac2a8b8c400",
      "2f6967f7f1d0479aa31bbb5a23571981",
      "825827ec92614bc1bbe05c3478f60a9a",
      "0a6305710b2446ad82f2076e74de7420"
     ]
    },
    "id": "zVycH8ZvcfSu",
    "outputId": "f1eb8c24-f2e7-4485-84b7-6b6612485641"
   },
   "outputs": [],
   "source": [
    "wandb.init(project=\"NeMo\")"
   ]
  },
  {
   "cell_type": "markdown",
   "metadata": {},
   "source": [
    "we will create a `wandb.Table` to put our different data processing stages:"
   ]
  },
  {
   "cell_type": "code",
   "execution_count": null,
   "metadata": {
    "id": "bALoMd3NdTB6"
   },
   "outputs": [],
   "source": [
    "table = wandb.Table(columns=['audio_input', 'transcribed_text', 'translated_text', 'audio_output'])"
   ]
  },
  {
   "cell_type": "code",
   "execution_count": null,
   "metadata": {
    "id": "4sAhyWekdpbE"
   },
   "outputs": [],
   "source": [
    "def _build_row(audio_fr_fname, fr_txt, eng_txt, audio_en_np):\n",
    "  \"Save output of the model to files\"\n",
    "  fname_en = audio_fr_fname.split('.')[0] + '_en.wav'\n",
    "  save_audio_en(audio_en, fname=fname_en, sample_rate=22050)\n",
    "  return [wandb.Audio(audio_fr_fname, sample_rate=16000), fr_txt, eng_txt, wandb.Audio(fname_en, sample_rate=22050)]"
   ]
  },
  {
   "cell_type": "code",
   "execution_count": null,
   "metadata": {
    "id": "fcnlCtKAxbq6"
   },
   "outputs": [],
   "source": [
    "for audio_fr_fname, fr_txt, eng_txt, audio_en in zip(audio_samples, transcribed_text, english_text, english_audios):\n",
    "  table.add_data(*_build_row(audio_fr_fname, fr_txt, eng_txt, audio_en))"
   ]
  },
  {
   "cell_type": "code",
   "execution_count": null,
   "metadata": {
    "id": "QpcPoWnayMQz"
   },
   "outputs": [],
   "source": [
    "wandb.log({\"table\": table})"
   ]
  },
  {
   "cell_type": "code",
   "execution_count": null,
   "metadata": {
    "colab": {
     "base_uri": "https://localhost:8080/",
     "height": 122,
     "referenced_widgets": [
      "0ca89890c94b4eac8c1b8b8d3d9b8b54",
      "e4cdf2b177134c0a96f3ed0a537c3c54",
      "859705bff9b5463284858337c962b6e4",
      "951c9d81979b4ed0b0b3f45e01de9e25",
      "17c495daaaa1496bbdb67933922cc6db",
      "cd707b50954a49ea9da14ca59331bf74",
      "aa003883f98f412c822d3cc7053bc23f",
      "0367362a62fc4c3988d61dad2572436c"
     ]
    },
    "id": "8wEuZ6h68A9T",
    "outputId": "1cd78c9a-4789-4e66-d791-96c113993593"
   },
   "outputs": [],
   "source": [
    "wandb.finish()"
   ]
  }
 ],
 "metadata": {
  "accelerator": "GPU",
  "colab": {
   "collapsed_sections": [
    "V72HXYuQ_p9a",
    "EyJ5HiiPrPKA"
   ],
   "machine_shape": "hm",
   "name": "NeMo and wandb",
   "provenance": []
  },
  "kernelspec": {
   "display_name": "Python 3 (ipykernel)",
   "language": "python",
   "name": "python3"
  },
  "language_info": {
   "codemirror_mode": {
    "name": "ipython",
    "version": 3
   },
   "file_extension": ".py",
   "mimetype": "text/x-python",
   "name": "python",
   "nbconvert_exporter": "python",
   "pygments_lexer": "ipython3",
   "version": "3.9.7"
  },
  "widgets": {
   "application/vnd.jupyter.widget-state+json": {
    "00bdf68a696949e3afb988a29a166f94": {
     "model_module": "@jupyter-widgets/controls",
     "model_module_version": "1.5.0",
     "model_name": "DescriptionStyleModel",
     "state": {
      "_model_module": "@jupyter-widgets/controls",
      "_model_module_version": "1.5.0",
      "_model_name": "DescriptionStyleModel",
      "_view_count": null,
      "_view_module": "@jupyter-widgets/base",
      "_view_module_version": "1.2.0",
      "_view_name": "StyleView",
      "description_width": ""
     }
    },
    "0367362a62fc4c3988d61dad2572436c": {
     "model_module": "@jupyter-widgets/base",
     "model_module_version": "1.2.0",
     "model_name": "LayoutModel",
     "state": {
      "_model_module": "@jupyter-widgets/base",
      "_model_module_version": "1.2.0",
      "_model_name": "LayoutModel",
      "_view_count": null,
      "_view_module": "@jupyter-widgets/base",
      "_view_module_version": "1.2.0",
      "_view_name": "LayoutView",
      "align_content": null,
      "align_items": null,
      "align_self": null,
      "border": null,
      "bottom": null,
      "display": null,
      "flex": null,
      "flex_flow": null,
      "grid_area": null,
      "grid_auto_columns": null,
      "grid_auto_flow": null,
      "grid_auto_rows": null,
      "grid_column": null,
      "grid_gap": null,
      "grid_row": null,
      "grid_template_areas": null,
      "grid_template_columns": null,
      "grid_template_rows": null,
      "height": null,
      "justify_content": null,
      "justify_items": null,
      "left": null,
      "margin": null,
      "max_height": null,
      "max_width": null,
      "min_height": null,
      "min_width": null,
      "object_fit": null,
      "object_position": null,
      "order": null,
      "overflow": null,
      "overflow_x": null,
      "overflow_y": null,
      "padding": null,
      "right": null,
      "top": null,
      "visibility": null,
      "width": null
     }
    },
    "0a6305710b2446ad82f2076e74de7420": {
     "model_module": "@jupyter-widgets/base",
     "model_module_version": "1.2.0",
     "model_name": "LayoutModel",
     "state": {
      "_model_module": "@jupyter-widgets/base",
      "_model_module_version": "1.2.0",
      "_model_name": "LayoutModel",
      "_view_count": null,
      "_view_module": "@jupyter-widgets/base",
      "_view_module_version": "1.2.0",
      "_view_name": "LayoutView",
      "align_content": null,
      "align_items": null,
      "align_self": null,
      "border": null,
      "bottom": null,
      "display": null,
      "flex": null,
      "flex_flow": null,
      "grid_area": null,
      "grid_auto_columns": null,
      "grid_auto_flow": null,
      "grid_auto_rows": null,
      "grid_column": null,
      "grid_gap": null,
      "grid_row": null,
      "grid_template_areas": null,
      "grid_template_columns": null,
      "grid_template_rows": null,
      "height": null,
      "justify_content": null,
      "justify_items": null,
      "left": null,
      "margin": null,
      "max_height": null,
      "max_width": null,
      "min_height": null,
      "min_width": null,
      "object_fit": null,
      "object_position": null,
      "order": null,
      "overflow": null,
      "overflow_x": null,
      "overflow_y": null,
      "padding": null,
      "right": null,
      "top": null,
      "visibility": null,
      "width": null
     }
    },
    "0ca89890c94b4eac8c1b8b8d3d9b8b54": {
     "model_module": "@jupyter-widgets/controls",
     "model_module_version": "1.5.0",
     "model_name": "VBoxModel",
     "state": {
      "_dom_classes": [],
      "_model_module": "@jupyter-widgets/controls",
      "_model_module_version": "1.5.0",
      "_model_name": "VBoxModel",
      "_view_count": null,
      "_view_module": "@jupyter-widgets/controls",
      "_view_module_version": "1.5.0",
      "_view_name": "VBoxView",
      "box_style": "",
      "children": [
       "IPY_MODEL_859705bff9b5463284858337c962b6e4",
       "IPY_MODEL_951c9d81979b4ed0b0b3f45e01de9e25"
      ],
      "layout": "IPY_MODEL_e4cdf2b177134c0a96f3ed0a537c3c54"
     }
    },
    "15dca6710da44192a7626e26607e68a8": {
     "model_module": "@jupyter-widgets/controls",
     "model_module_version": "1.5.0",
     "model_name": "FloatProgressModel",
     "state": {
      "_dom_classes": [],
      "_model_module": "@jupyter-widgets/controls",
      "_model_module_version": "1.5.0",
      "_model_name": "FloatProgressModel",
      "_view_count": null,
      "_view_module": "@jupyter-widgets/controls",
      "_view_module_version": "1.5.0",
      "_view_name": "ProgressView",
      "bar_style": "",
      "description": "",
      "description_tooltip": null,
      "layout": "IPY_MODEL_0a6305710b2446ad82f2076e74de7420",
      "max": 1,
      "min": 0,
      "orientation": "horizontal",
      "style": "IPY_MODEL_825827ec92614bc1bbe05c3478f60a9a",
      "value": 1
     }
    },
    "17c495daaaa1496bbdb67933922cc6db": {
     "model_module": "@jupyter-widgets/controls",
     "model_module_version": "1.5.0",
     "model_name": "DescriptionStyleModel",
     "state": {
      "_model_module": "@jupyter-widgets/controls",
      "_model_module_version": "1.5.0",
      "_model_name": "DescriptionStyleModel",
      "_view_count": null,
      "_view_module": "@jupyter-widgets/base",
      "_view_module_version": "1.2.0",
      "_view_name": "StyleView",
      "description_width": ""
     }
    },
    "2bed44e253a94a12acddd9c88b24a24d": {
     "model_module": "@jupyter-widgets/controls",
     "model_module_version": "1.5.0",
     "model_name": "HBoxModel",
     "state": {
      "_dom_classes": [],
      "_model_module": "@jupyter-widgets/controls",
      "_model_module_version": "1.5.0",
      "_model_name": "HBoxModel",
      "_view_count": null,
      "_view_module": "@jupyter-widgets/controls",
      "_view_module_version": "1.5.0",
      "_view_name": "HBoxView",
      "box_style": "",
      "children": [
       "IPY_MODEL_f35f9b5972344ae7b69b0d51bf6f332b",
       "IPY_MODEL_babba5c21ca14e2c902719aac708539a",
       "IPY_MODEL_3d7584066b2446e49834198dcf183150"
      ],
      "layout": "IPY_MODEL_312a2ccd0add4308a634bdf9e4a4045c"
     }
    },
    "2f6967f7f1d0479aa31bbb5a23571981": {
     "model_module": "@jupyter-widgets/base",
     "model_module_version": "1.2.0",
     "model_name": "LayoutModel",
     "state": {
      "_model_module": "@jupyter-widgets/base",
      "_model_module_version": "1.2.0",
      "_model_name": "LayoutModel",
      "_view_count": null,
      "_view_module": "@jupyter-widgets/base",
      "_view_module_version": "1.2.0",
      "_view_name": "LayoutView",
      "align_content": null,
      "align_items": null,
      "align_self": null,
      "border": null,
      "bottom": null,
      "display": null,
      "flex": null,
      "flex_flow": null,
      "grid_area": null,
      "grid_auto_columns": null,
      "grid_auto_flow": null,
      "grid_auto_rows": null,
      "grid_column": null,
      "grid_gap": null,
      "grid_row": null,
      "grid_template_areas": null,
      "grid_template_columns": null,
      "grid_template_rows": null,
      "height": null,
      "justify_content": null,
      "justify_items": null,
      "left": null,
      "margin": null,
      "max_height": null,
      "max_width": null,
      "min_height": null,
      "min_width": null,
      "object_fit": null,
      "object_position": null,
      "order": null,
      "overflow": null,
      "overflow_x": null,
      "overflow_y": null,
      "padding": null,
      "right": null,
      "top": null,
      "visibility": null,
      "width": null
     }
    },
    "312a2ccd0add4308a634bdf9e4a4045c": {
     "model_module": "@jupyter-widgets/base",
     "model_module_version": "1.2.0",
     "model_name": "LayoutModel",
     "state": {
      "_model_module": "@jupyter-widgets/base",
      "_model_module_version": "1.2.0",
      "_model_name": "LayoutModel",
      "_view_count": null,
      "_view_module": "@jupyter-widgets/base",
      "_view_module_version": "1.2.0",
      "_view_name": "LayoutView",
      "align_content": null,
      "align_items": null,
      "align_self": null,
      "border": null,
      "bottom": null,
      "display": null,
      "flex": null,
      "flex_flow": null,
      "grid_area": null,
      "grid_auto_columns": null,
      "grid_auto_flow": null,
      "grid_auto_rows": null,
      "grid_column": null,
      "grid_gap": null,
      "grid_row": null,
      "grid_template_areas": null,
      "grid_template_columns": null,
      "grid_template_rows": null,
      "height": null,
      "justify_content": null,
      "justify_items": null,
      "left": null,
      "margin": null,
      "max_height": null,
      "max_width": null,
      "min_height": null,
      "min_width": null,
      "object_fit": null,
      "object_position": null,
      "order": null,
      "overflow": null,
      "overflow_x": null,
      "overflow_y": null,
      "padding": null,
      "right": null,
      "top": null,
      "visibility": null,
      "width": null
     }
    },
    "3d7584066b2446e49834198dcf183150": {
     "model_module": "@jupyter-widgets/controls",
     "model_module_version": "1.5.0",
     "model_name": "HTMLModel",
     "state": {
      "_dom_classes": [],
      "_model_module": "@jupyter-widgets/controls",
      "_model_module_version": "1.5.0",
      "_model_name": "HTMLModel",
      "_view_count": null,
      "_view_module": "@jupyter-widgets/controls",
      "_view_module_version": "1.5.0",
      "_view_name": "HTMLView",
      "description": "",
      "description_tooltip": null,
      "layout": "IPY_MODEL_a770f6315ec846ae9aa25697dfed283b",
      "placeholder": "​",
      "style": "IPY_MODEL_00bdf68a696949e3afb988a29a166f94",
      "value": " 2/2 [00:03&lt;00:00,  2.88s/it]"
     }
    },
    "825827ec92614bc1bbe05c3478f60a9a": {
     "model_module": "@jupyter-widgets/controls",
     "model_module_version": "1.5.0",
     "model_name": "ProgressStyleModel",
     "state": {
      "_model_module": "@jupyter-widgets/controls",
      "_model_module_version": "1.5.0",
      "_model_name": "ProgressStyleModel",
      "_view_count": null,
      "_view_module": "@jupyter-widgets/base",
      "_view_module_version": "1.2.0",
      "_view_name": "StyleView",
      "bar_color": null,
      "description_width": ""
     }
    },
    "859705bff9b5463284858337c962b6e4": {
     "model_module": "@jupyter-widgets/controls",
     "model_module_version": "1.5.0",
     "model_name": "LabelModel",
     "state": {
      "_dom_classes": [],
      "_model_module": "@jupyter-widgets/controls",
      "_model_module_version": "1.5.0",
      "_model_name": "LabelModel",
      "_view_count": null,
      "_view_module": "@jupyter-widgets/controls",
      "_view_module_version": "1.5.0",
      "_view_name": "LabelView",
      "description": "",
      "description_tooltip": null,
      "layout": "IPY_MODEL_cd707b50954a49ea9da14ca59331bf74",
      "placeholder": "​",
      "style": "IPY_MODEL_17c495daaaa1496bbdb67933922cc6db",
      "value": " 1.57MB of 1.57MB uploaded (0.00MB deduped)\r"
     }
    },
    "86a4d4c4a814460cabdf78153b8f0999": {
     "model_module": "@jupyter-widgets/controls",
     "model_module_version": "1.5.0",
     "model_name": "LabelModel",
     "state": {
      "_dom_classes": [],
      "_model_module": "@jupyter-widgets/controls",
      "_model_module_version": "1.5.0",
      "_model_name": "LabelModel",
      "_view_count": null,
      "_view_module": "@jupyter-widgets/controls",
      "_view_module_version": "1.5.0",
      "_view_name": "LabelView",
      "description": "",
      "description_tooltip": null,
      "layout": "IPY_MODEL_2f6967f7f1d0479aa31bbb5a23571981",
      "placeholder": "​",
      "style": "IPY_MODEL_89b20306fedd47d7b23c6ac2a8b8c400",
      "value": " 0.01MB of 0.01MB uploaded (0.00MB deduped)\r"
     }
    },
    "86c05288c9304f8bbe88d1aba560a9b6": {
     "model_module": "@jupyter-widgets/base",
     "model_module_version": "1.2.0",
     "model_name": "LayoutModel",
     "state": {
      "_model_module": "@jupyter-widgets/base",
      "_model_module_version": "1.2.0",
      "_model_name": "LayoutModel",
      "_view_count": null,
      "_view_module": "@jupyter-widgets/base",
      "_view_module_version": "1.2.0",
      "_view_name": "LayoutView",
      "align_content": null,
      "align_items": null,
      "align_self": null,
      "border": null,
      "bottom": null,
      "display": null,
      "flex": null,
      "flex_flow": null,
      "grid_area": null,
      "grid_auto_columns": null,
      "grid_auto_flow": null,
      "grid_auto_rows": null,
      "grid_column": null,
      "grid_gap": null,
      "grid_row": null,
      "grid_template_areas": null,
      "grid_template_columns": null,
      "grid_template_rows": null,
      "height": null,
      "justify_content": null,
      "justify_items": null,
      "left": null,
      "margin": null,
      "max_height": null,
      "max_width": null,
      "min_height": null,
      "min_width": null,
      "object_fit": null,
      "object_position": null,
      "order": null,
      "overflow": null,
      "overflow_x": null,
      "overflow_y": null,
      "padding": null,
      "right": null,
      "top": null,
      "visibility": null,
      "width": null
     }
    },
    "89b20306fedd47d7b23c6ac2a8b8c400": {
     "model_module": "@jupyter-widgets/controls",
     "model_module_version": "1.5.0",
     "model_name": "DescriptionStyleModel",
     "state": {
      "_model_module": "@jupyter-widgets/controls",
      "_model_module_version": "1.5.0",
      "_model_name": "DescriptionStyleModel",
      "_view_count": null,
      "_view_module": "@jupyter-widgets/base",
      "_view_module_version": "1.2.0",
      "_view_name": "StyleView",
      "description_width": ""
     }
    },
    "923a3330580c47a597cb5754b743321e": {
     "model_module": "@jupyter-widgets/controls",
     "model_module_version": "1.5.0",
     "model_name": "ProgressStyleModel",
     "state": {
      "_model_module": "@jupyter-widgets/controls",
      "_model_module_version": "1.5.0",
      "_model_name": "ProgressStyleModel",
      "_view_count": null,
      "_view_module": "@jupyter-widgets/base",
      "_view_module_version": "1.2.0",
      "_view_name": "StyleView",
      "bar_color": null,
      "description_width": ""
     }
    },
    "951c9d81979b4ed0b0b3f45e01de9e25": {
     "model_module": "@jupyter-widgets/controls",
     "model_module_version": "1.5.0",
     "model_name": "FloatProgressModel",
     "state": {
      "_dom_classes": [],
      "_model_module": "@jupyter-widgets/controls",
      "_model_module_version": "1.5.0",
      "_model_name": "FloatProgressModel",
      "_view_count": null,
      "_view_module": "@jupyter-widgets/controls",
      "_view_module_version": "1.5.0",
      "_view_name": "ProgressView",
      "bar_style": "",
      "description": "",
      "description_tooltip": null,
      "layout": "IPY_MODEL_0367362a62fc4c3988d61dad2572436c",
      "max": 1,
      "min": 0,
      "orientation": "horizontal",
      "style": "IPY_MODEL_aa003883f98f412c822d3cc7053bc23f",
      "value": 1
     }
    },
    "a770f6315ec846ae9aa25697dfed283b": {
     "model_module": "@jupyter-widgets/base",
     "model_module_version": "1.2.0",
     "model_name": "LayoutModel",
     "state": {
      "_model_module": "@jupyter-widgets/base",
      "_model_module_version": "1.2.0",
      "_model_name": "LayoutModel",
      "_view_count": null,
      "_view_module": "@jupyter-widgets/base",
      "_view_module_version": "1.2.0",
      "_view_name": "LayoutView",
      "align_content": null,
      "align_items": null,
      "align_self": null,
      "border": null,
      "bottom": null,
      "display": null,
      "flex": null,
      "flex_flow": null,
      "grid_area": null,
      "grid_auto_columns": null,
      "grid_auto_flow": null,
      "grid_auto_rows": null,
      "grid_column": null,
      "grid_gap": null,
      "grid_row": null,
      "grid_template_areas": null,
      "grid_template_columns": null,
      "grid_template_rows": null,
      "height": null,
      "justify_content": null,
      "justify_items": null,
      "left": null,
      "margin": null,
      "max_height": null,
      "max_width": null,
      "min_height": null,
      "min_width": null,
      "object_fit": null,
      "object_position": null,
      "order": null,
      "overflow": null,
      "overflow_x": null,
      "overflow_y": null,
      "padding": null,
      "right": null,
      "top": null,
      "visibility": null,
      "width": null
     }
    },
    "aa003883f98f412c822d3cc7053bc23f": {
     "model_module": "@jupyter-widgets/controls",
     "model_module_version": "1.5.0",
     "model_name": "ProgressStyleModel",
     "state": {
      "_model_module": "@jupyter-widgets/controls",
      "_model_module_version": "1.5.0",
      "_model_name": "ProgressStyleModel",
      "_view_count": null,
      "_view_module": "@jupyter-widgets/base",
      "_view_module_version": "1.2.0",
      "_view_name": "StyleView",
      "bar_color": null,
      "description_width": ""
     }
    },
    "b6bdb2f3f5d743219d824b09873d748a": {
     "model_module": "@jupyter-widgets/controls",
     "model_module_version": "1.5.0",
     "model_name": "VBoxModel",
     "state": {
      "_dom_classes": [],
      "_model_module": "@jupyter-widgets/controls",
      "_model_module_version": "1.5.0",
      "_model_name": "VBoxModel",
      "_view_count": null,
      "_view_module": "@jupyter-widgets/controls",
      "_view_module_version": "1.5.0",
      "_view_name": "VBoxView",
      "box_style": "",
      "children": [
       "IPY_MODEL_86a4d4c4a814460cabdf78153b8f0999",
       "IPY_MODEL_15dca6710da44192a7626e26607e68a8"
      ],
      "layout": "IPY_MODEL_cea2c8d3c6e847dd8c2bdd1e9f57232f"
     }
    },
    "babba5c21ca14e2c902719aac708539a": {
     "model_module": "@jupyter-widgets/controls",
     "model_module_version": "1.5.0",
     "model_name": "FloatProgressModel",
     "state": {
      "_dom_classes": [],
      "_model_module": "@jupyter-widgets/controls",
      "_model_module_version": "1.5.0",
      "_model_name": "FloatProgressModel",
      "_view_count": null,
      "_view_module": "@jupyter-widgets/controls",
      "_view_module_version": "1.5.0",
      "_view_name": "ProgressView",
      "bar_style": "success",
      "description": "",
      "description_tooltip": null,
      "layout": "IPY_MODEL_86c05288c9304f8bbe88d1aba560a9b6",
      "max": 2,
      "min": 0,
      "orientation": "horizontal",
      "style": "IPY_MODEL_923a3330580c47a597cb5754b743321e",
      "value": 2
     }
    },
    "cd707b50954a49ea9da14ca59331bf74": {
     "model_module": "@jupyter-widgets/base",
     "model_module_version": "1.2.0",
     "model_name": "LayoutModel",
     "state": {
      "_model_module": "@jupyter-widgets/base",
      "_model_module_version": "1.2.0",
      "_model_name": "LayoutModel",
      "_view_count": null,
      "_view_module": "@jupyter-widgets/base",
      "_view_module_version": "1.2.0",
      "_view_name": "LayoutView",
      "align_content": null,
      "align_items": null,
      "align_self": null,
      "border": null,
      "bottom": null,
      "display": null,
      "flex": null,
      "flex_flow": null,
      "grid_area": null,
      "grid_auto_columns": null,
      "grid_auto_flow": null,
      "grid_auto_rows": null,
      "grid_column": null,
      "grid_gap": null,
      "grid_row": null,
      "grid_template_areas": null,
      "grid_template_columns": null,
      "grid_template_rows": null,
      "height": null,
      "justify_content": null,
      "justify_items": null,
      "left": null,
      "margin": null,
      "max_height": null,
      "max_width": null,
      "min_height": null,
      "min_width": null,
      "object_fit": null,
      "object_position": null,
      "order": null,
      "overflow": null,
      "overflow_x": null,
      "overflow_y": null,
      "padding": null,
      "right": null,
      "top": null,
      "visibility": null,
      "width": null
     }
    },
    "cea2c8d3c6e847dd8c2bdd1e9f57232f": {
     "model_module": "@jupyter-widgets/base",
     "model_module_version": "1.2.0",
     "model_name": "LayoutModel",
     "state": {
      "_model_module": "@jupyter-widgets/base",
      "_model_module_version": "1.2.0",
      "_model_name": "LayoutModel",
      "_view_count": null,
      "_view_module": "@jupyter-widgets/base",
      "_view_module_version": "1.2.0",
      "_view_name": "LayoutView",
      "align_content": null,
      "align_items": null,
      "align_self": null,
      "border": null,
      "bottom": null,
      "display": null,
      "flex": null,
      "flex_flow": null,
      "grid_area": null,
      "grid_auto_columns": null,
      "grid_auto_flow": null,
      "grid_auto_rows": null,
      "grid_column": null,
      "grid_gap": null,
      "grid_row": null,
      "grid_template_areas": null,
      "grid_template_columns": null,
      "grid_template_rows": null,
      "height": null,
      "justify_content": null,
      "justify_items": null,
      "left": null,
      "margin": null,
      "max_height": null,
      "max_width": null,
      "min_height": null,
      "min_width": null,
      "object_fit": null,
      "object_position": null,
      "order": null,
      "overflow": null,
      "overflow_x": null,
      "overflow_y": null,
      "padding": null,
      "right": null,
      "top": null,
      "visibility": null,
      "width": null
     }
    },
    "d2207e75876b4baebb400ef7f2a7d7fd": {
     "model_module": "@jupyter-widgets/base",
     "model_module_version": "1.2.0",
     "model_name": "LayoutModel",
     "state": {
      "_model_module": "@jupyter-widgets/base",
      "_model_module_version": "1.2.0",
      "_model_name": "LayoutModel",
      "_view_count": null,
      "_view_module": "@jupyter-widgets/base",
      "_view_module_version": "1.2.0",
      "_view_name": "LayoutView",
      "align_content": null,
      "align_items": null,
      "align_self": null,
      "border": null,
      "bottom": null,
      "display": null,
      "flex": null,
      "flex_flow": null,
      "grid_area": null,
      "grid_auto_columns": null,
      "grid_auto_flow": null,
      "grid_auto_rows": null,
      "grid_column": null,
      "grid_gap": null,
      "grid_row": null,
      "grid_template_areas": null,
      "grid_template_columns": null,
      "grid_template_rows": null,
      "height": null,
      "justify_content": null,
      "justify_items": null,
      "left": null,
      "margin": null,
      "max_height": null,
      "max_width": null,
      "min_height": null,
      "min_width": null,
      "object_fit": null,
      "object_position": null,
      "order": null,
      "overflow": null,
      "overflow_x": null,
      "overflow_y": null,
      "padding": null,
      "right": null,
      "top": null,
      "visibility": null,
      "width": null
     }
    },
    "e4cdf2b177134c0a96f3ed0a537c3c54": {
     "model_module": "@jupyter-widgets/base",
     "model_module_version": "1.2.0",
     "model_name": "LayoutModel",
     "state": {
      "_model_module": "@jupyter-widgets/base",
      "_model_module_version": "1.2.0",
      "_model_name": "LayoutModel",
      "_view_count": null,
      "_view_module": "@jupyter-widgets/base",
      "_view_module_version": "1.2.0",
      "_view_name": "LayoutView",
      "align_content": null,
      "align_items": null,
      "align_self": null,
      "border": null,
      "bottom": null,
      "display": null,
      "flex": null,
      "flex_flow": null,
      "grid_area": null,
      "grid_auto_columns": null,
      "grid_auto_flow": null,
      "grid_auto_rows": null,
      "grid_column": null,
      "grid_gap": null,
      "grid_row": null,
      "grid_template_areas": null,
      "grid_template_columns": null,
      "grid_template_rows": null,
      "height": null,
      "justify_content": null,
      "justify_items": null,
      "left": null,
      "margin": null,
      "max_height": null,
      "max_width": null,
      "min_height": null,
      "min_width": null,
      "object_fit": null,
      "object_position": null,
      "order": null,
      "overflow": null,
      "overflow_x": null,
      "overflow_y": null,
      "padding": null,
      "right": null,
      "top": null,
      "visibility": null,
      "width": null
     }
    },
    "e59f99a3f68447719d6e3563ca460eba": {
     "model_module": "@jupyter-widgets/controls",
     "model_module_version": "1.5.0",
     "model_name": "DescriptionStyleModel",
     "state": {
      "_model_module": "@jupyter-widgets/controls",
      "_model_module_version": "1.5.0",
      "_model_name": "DescriptionStyleModel",
      "_view_count": null,
      "_view_module": "@jupyter-widgets/base",
      "_view_module_version": "1.2.0",
      "_view_name": "StyleView",
      "description_width": ""
     }
    },
    "f35f9b5972344ae7b69b0d51bf6f332b": {
     "model_module": "@jupyter-widgets/controls",
     "model_module_version": "1.5.0",
     "model_name": "HTMLModel",
     "state": {
      "_dom_classes": [],
      "_model_module": "@jupyter-widgets/controls",
      "_model_module_version": "1.5.0",
      "_model_name": "HTMLModel",
      "_view_count": null,
      "_view_module": "@jupyter-widgets/controls",
      "_view_module_version": "1.5.0",
      "_view_name": "HTMLView",
      "description": "",
      "description_tooltip": null,
      "layout": "IPY_MODEL_d2207e75876b4baebb400ef7f2a7d7fd",
      "placeholder": "​",
      "style": "IPY_MODEL_e59f99a3f68447719d6e3563ca460eba",
      "value": "Transcribing: 100%"
     }
    }
   }
  }
 },
 "nbformat": 4,
 "nbformat_minor": 4
}
